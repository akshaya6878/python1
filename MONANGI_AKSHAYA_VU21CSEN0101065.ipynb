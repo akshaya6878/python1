{
  "cells": [
    {
      "cell_type": "markdown",
      "metadata": {
        "id": "view-in-github",
        "colab_type": "text"
      },
      "source": [
        "<a href=\"https://colab.research.google.com/github/akshaya6878/python1/blob/main/MONANGI_AKSHAYA_VU21CSEN0101065.ipynb\" target=\"_parent\"><img src=\"https://colab.research.google.com/assets/colab-badge.svg\" alt=\"Open In Colab\"/></a>"
      ]
    },
    {
      "cell_type": "markdown",
      "id": "9c87253a",
      "metadata": {
        "id": "9c87253a"
      },
      "source": [
        "## AVG OF THREE NUMBERS"
      ]
    },
    {
      "cell_type": "code",
      "execution_count": 2,
      "id": "c99fd6d6",
      "metadata": {
        "scrolled": false,
        "colab": {
          "base_uri": "https://localhost:8080/"
        },
        "id": "c99fd6d6",
        "outputId": "4f2919c2-29e4-4a98-837e-30f1fc2174df"
      },
      "outputs": [
        {
          "output_type": "stream",
          "name": "stdout",
          "text": [
            "20.0\n",
            "<class 'float'>\n"
          ]
        }
      ],
      "source": [
        "a=10\n",
        "b=20\n",
        "c=30\n",
        "avg=(a+b+c)/3\n",
        "print(avg)\n",
        "print(type(avg))"
      ]
    },
    {
      "cell_type": "markdown",
      "id": "1424b89e",
      "metadata": {
        "id": "1424b89e"
      },
      "source": [
        "## MULTIPLICATION OF THREE NUMBERS"
      ]
    },
    {
      "cell_type": "code",
      "execution_count": 1,
      "id": "b41f2a5d",
      "metadata": {
        "colab": {
          "base_uri": "https://localhost:8080/"
        },
        "id": "b41f2a5d",
        "outputId": "e878a014-3de3-4fe6-b870-822008c4d473"
      },
      "outputs": [
        {
          "output_type": "stream",
          "name": "stdout",
          "text": [
            "6000\n",
            "<class 'int'>\n"
          ]
        }
      ],
      "source": [
        "a=10\n",
        "b=20\n",
        "c=30\n",
        "multi=(a*b*c)\n",
        "print(multi)\n",
        "print(type(multi))"
      ]
    },
    {
      "cell_type": "markdown",
      "id": "3d0f584f",
      "metadata": {
        "id": "3d0f584f"
      },
      "source": [
        "## DYNAMIC ADDITION"
      ]
    },
    {
      "cell_type": "code",
      "execution_count": null,
      "id": "75a7a7f4",
      "metadata": {
        "id": "75a7a7f4",
        "outputId": "872c7b8d-3ced-4866-aae1-8a0edeb1850a"
      },
      "outputs": [
        {
          "name": "stdout",
          "output_type": "stream",
          "text": [
            "enter a number2 \n",
            "enter a number4\n",
            "6\n",
            "<class 'int'>\n"
          ]
        }
      ],
      "source": [
        "a=int(input(\"enter a number\"))\n",
        "b=int(input(\"enter a number\"))\n",
        "add=(a+b)\n",
        "print(add)\n",
        "print(type(add))\n",
        "\n"
      ]
    },
    {
      "cell_type": "markdown",
      "id": "77a14b9d",
      "metadata": {
        "id": "77a14b9d"
      },
      "source": [
        "## DYNAMIC MULTIPLICATION"
      ]
    },
    {
      "cell_type": "code",
      "execution_count": null,
      "id": "d14579d1",
      "metadata": {
        "id": "d14579d1",
        "outputId": "f5ae4223-9edd-41a1-ee2f-8ed0b54d0bd7"
      },
      "outputs": [
        {
          "name": "stdout",
          "output_type": "stream",
          "text": [
            "enter a number3\n",
            "enter a number4\n",
            "12\n",
            "<class 'int'>\n"
          ]
        }
      ],
      "source": [
        "a=int(input(\"enter a number\"))\n",
        "b=int(input(\"enter a number\"))\n",
        "multi=(a*b)\n",
        "print(multi)\n",
        "print(type(multi))\n"
      ]
    },
    {
      "cell_type": "markdown",
      "id": "349f8ca0",
      "metadata": {
        "id": "349f8ca0"
      },
      "source": [
        "## dynamic average"
      ]
    },
    {
      "cell_type": "code",
      "execution_count": null,
      "id": "9c9316c1",
      "metadata": {
        "id": "9c9316c1",
        "outputId": "f4741fd6-53b7-4bbd-c496-6bff305c52b5"
      },
      "outputs": [
        {
          "name": "stdout",
          "output_type": "stream",
          "text": [
            "enter a number10\n",
            "enter a number20\n",
            "enter a number30\n",
            "20.0\n",
            "<class 'float'>\n"
          ]
        }
      ],
      "source": [
        "a=int(input(\"enter a number\"))\n",
        "b=int(input(\"enter a number\"))\n",
        "c=int(input(\"enter a number\"))\n",
        "avg=(a+b+c)/3\n",
        "print(avg)\n",
        "print(type(avg))"
      ]
    },
    {
      "cell_type": "markdown",
      "id": "1a6d1c98",
      "metadata": {
        "id": "1a6d1c98"
      },
      "source": [
        "# CONVERSIONS"
      ]
    },
    {
      "cell_type": "markdown",
      "id": "deac13d4",
      "metadata": {
        "id": "deac13d4"
      },
      "source": [
        "# # convert int to float"
      ]
    },
    {
      "cell_type": "code",
      "execution_count": null,
      "id": "f92c1439",
      "metadata": {
        "id": "f92c1439",
        "outputId": "d95c9914-8641-4cda-c9cb-d49651e38b81"
      },
      "outputs": [
        {
          "name": "stdout",
          "output_type": "stream",
          "text": [
            "<class 'int'>\n",
            "10.0\n"
          ]
        }
      ],
      "source": [
        "a=10\n",
        "print(type(a))\n",
        "b=float(a)\n",
        "print(b)\n"
      ]
    },
    {
      "cell_type": "markdown",
      "id": "fa72827b",
      "metadata": {
        "id": "fa72827b"
      },
      "source": [
        "# # convert float to int"
      ]
    },
    {
      "cell_type": "code",
      "execution_count": null,
      "id": "7e708c81",
      "metadata": {
        "id": "7e708c81",
        "outputId": "489811e1-ac12-43e4-87fd-d9308e9f7282"
      },
      "outputs": [
        {
          "name": "stdout",
          "output_type": "stream",
          "text": [
            "<class 'float'>\n",
            "14\n"
          ]
        }
      ],
      "source": [
        "a=14.3\n",
        "print(type(a))\n",
        "b=int(a)\n",
        "print(b)"
      ]
    },
    {
      "cell_type": "markdown",
      "id": "d2031c38",
      "metadata": {
        "id": "d2031c38"
      },
      "source": [
        "# # convert int to string"
      ]
    },
    {
      "cell_type": "code",
      "execution_count": null,
      "id": "5e48825a",
      "metadata": {
        "id": "5e48825a",
        "outputId": "5ba57097-d830-4fdc-8bba-47e8b1fcb6c2"
      },
      "outputs": [
        {
          "name": "stdout",
          "output_type": "stream",
          "text": [
            "<class 'int'>\n",
            "12\n",
            "<class 'str'>\n"
          ]
        }
      ],
      "source": [
        "a=12\n",
        "print(type(a))\n",
        "b=str(a)\n",
        "print(b)\n",
        "print(type(b))"
      ]
    },
    {
      "cell_type": "markdown",
      "id": "6e145dbd",
      "metadata": {
        "id": "6e145dbd"
      },
      "source": [
        "# # convert float to string"
      ]
    },
    {
      "cell_type": "code",
      "execution_count": null,
      "id": "fe743fc4",
      "metadata": {
        "id": "fe743fc4",
        "outputId": "8e327bec-436b-4df0-808a-0638e31cc5ec"
      },
      "outputs": [
        {
          "name": "stdout",
          "output_type": "stream",
          "text": [
            "<class 'float'>\n",
            "14.3\n",
            "<class 'str'>\n"
          ]
        }
      ],
      "source": [
        "a=14.3\n",
        "print(type(a))\n",
        "b=str(a)\n",
        "print(b)\n",
        "print(type(b))"
      ]
    },
    {
      "cell_type": "markdown",
      "id": "870b8093",
      "metadata": {
        "id": "870b8093"
      },
      "source": [
        "# # convert string to int"
      ]
    },
    {
      "cell_type": "code",
      "execution_count": null,
      "id": "6b05e9a5",
      "metadata": {
        "id": "6b05e9a5",
        "outputId": "64c9b88c-14a1-4c76-9ac0-8fd3240202df"
      },
      "outputs": [
        {
          "ename": "NameError",
          "evalue": "name 'akshaya' is not defined",
          "output_type": "error",
          "traceback": [
            "\u001b[1;31m---------------------------------------------------------------------------\u001b[0m",
            "\u001b[1;31mNameError\u001b[0m                                 Traceback (most recent call last)",
            "\u001b[1;32m~\\AppData\\Local\\Temp/ipykernel_4936/1896633674.py\u001b[0m in \u001b[0;36m<module>\u001b[1;34m\u001b[0m\n\u001b[0;32m      1\u001b[0m \u001b[1;31m## not possible only if values given in alphabets\u001b[0m\u001b[1;33m\u001b[0m\u001b[1;33m\u001b[0m\u001b[0m\n\u001b[1;32m----> 2\u001b[1;33m \u001b[0ma\u001b[0m\u001b[1;33m=\u001b[0m\u001b[0makshaya\u001b[0m\u001b[1;33m\u001b[0m\u001b[1;33m\u001b[0m\u001b[0m\n\u001b[0m\u001b[0;32m      3\u001b[0m \u001b[0mprint\u001b[0m\u001b[1;33m(\u001b[0m\u001b[0mtype\u001b[0m\u001b[1;33m(\u001b[0m\u001b[0ma\u001b[0m\u001b[1;33m)\u001b[0m\u001b[1;33m)\u001b[0m\u001b[1;33m\u001b[0m\u001b[1;33m\u001b[0m\u001b[0m\n\u001b[0;32m      4\u001b[0m \u001b[0mb\u001b[0m\u001b[1;33m=\u001b[0m\u001b[0mint\u001b[0m\u001b[1;33m(\u001b[0m\u001b[0ma\u001b[0m\u001b[1;33m)\u001b[0m\u001b[1;33m\u001b[0m\u001b[1;33m\u001b[0m\u001b[0m\n\u001b[0;32m      5\u001b[0m \u001b[0mprint\u001b[0m\u001b[1;33m(\u001b[0m\u001b[0mb\u001b[0m\u001b[1;33m)\u001b[0m\u001b[1;33m\u001b[0m\u001b[1;33m\u001b[0m\u001b[0m\n",
            "\u001b[1;31mNameError\u001b[0m: name 'akshaya' is not defined"
          ]
        }
      ],
      "source": [
        "## not possible only if values given in alphabets\n",
        "a=akshaya\n",
        "print(type(a))\n",
        "b=int(a)\n",
        "print(b)\n",
        "print(type(b))"
      ]
    },
    {
      "cell_type": "markdown",
      "id": "cfc1659d",
      "metadata": {
        "id": "cfc1659d"
      },
      "source": [
        "# # boolean"
      ]
    },
    {
      "cell_type": "code",
      "execution_count": null,
      "id": "bed19a1b",
      "metadata": {
        "id": "bed19a1b",
        "outputId": "7fc87abd-9c4d-4342-f7f4-6d1a0d9b29ec"
      },
      "outputs": [
        {
          "name": "stdout",
          "output_type": "stream",
          "text": [
            "True\n",
            "<class 'int'>\n"
          ]
        }
      ],
      "source": [
        "a=21\n",
        "print(bool(a))\n",
        "print(type(a))"
      ]
    },
    {
      "cell_type": "markdown",
      "id": "b9af3c65",
      "metadata": {
        "id": "b9af3c65"
      },
      "source": [
        "## boolean to int"
      ]
    },
    {
      "cell_type": "code",
      "execution_count": null,
      "id": "1c327e9d",
      "metadata": {
        "id": "1c327e9d",
        "outputId": "e559169a-4007-4336-f34b-a36c90aea212"
      },
      "outputs": [
        {
          "name": "stdout",
          "output_type": "stream",
          "text": [
            "0\n",
            "<class 'int'>\n"
          ]
        }
      ],
      "source": [
        "a=bool(0)\n",
        "\n",
        "b=int(bool(a))\n",
        "print(b)\n",
        "print(type(b))"
      ]
    },
    {
      "cell_type": "markdown",
      "id": "1e64628f",
      "metadata": {
        "id": "1e64628f"
      },
      "source": [
        "## boolean to float"
      ]
    },
    {
      "cell_type": "code",
      "execution_count": null,
      "id": "bc5dae98",
      "metadata": {
        "id": "bc5dae98",
        "outputId": "95c4491b-6b3d-457c-e886-29e8cfd6dd54"
      },
      "outputs": [
        {
          "name": "stdout",
          "output_type": "stream",
          "text": [
            "1.0\n",
            "<class 'float'>\n"
          ]
        }
      ],
      "source": [
        "a=bool(21)\n",
        "b=float(bool(a))\n",
        "print(b)\n",
        "print(type(b))"
      ]
    },
    {
      "cell_type": "markdown",
      "id": "82483294",
      "metadata": {
        "id": "82483294"
      },
      "source": [
        "## boolean to string"
      ]
    },
    {
      "cell_type": "code",
      "execution_count": null,
      "id": "627fa043",
      "metadata": {
        "id": "627fa043",
        "outputId": "4efc62b0-392d-4f6c-8ac6-a503acf2518b"
      },
      "outputs": [
        {
          "name": "stdout",
          "output_type": "stream",
          "text": [
            "True\n",
            "True\n",
            "<class 'str'>\n"
          ]
        }
      ],
      "source": [
        "a=11111\n",
        "print(bool(a))\n",
        "b=str(bool(a))\n",
        "print(b)\n",
        "print(type(b))"
      ]
    },
    {
      "cell_type": "markdown",
      "id": "3bb7e51e",
      "metadata": {
        "id": "3bb7e51e"
      },
      "source": [
        "## example in boolean"
      ]
    },
    {
      "cell_type": "code",
      "execution_count": null,
      "id": "69e437d7",
      "metadata": {
        "id": "69e437d7",
        "outputId": "6e64719e-4106-439c-f02e-ae4949673ba5"
      },
      "outputs": [
        {
          "name": "stdout",
          "output_type": "stream",
          "text": [
            "False\n",
            "<class 'bool'>\n"
          ]
        }
      ],
      "source": [
        "a=5\n",
        "b=10\n",
        "c=bool(a>b)\n",
        "print(c)\n",
        "print(type(c))"
      ]
    },
    {
      "cell_type": "markdown",
      "id": "aa5d7c08",
      "metadata": {
        "id": "aa5d7c08"
      },
      "source": [
        "# COMPLEX"
      ]
    },
    {
      "cell_type": "code",
      "execution_count": null,
      "id": "a788cae4",
      "metadata": {
        "id": "a788cae4",
        "outputId": "1aab857c-3934-42a8-d291-f2d5429196e6"
      },
      "outputs": [
        {
          "name": "stdout",
          "output_type": "stream",
          "text": [
            "<class 'complex'>\n"
          ]
        }
      ],
      "source": [
        "a=10+2j\n",
        "print(type(a))"
      ]
    },
    {
      "cell_type": "markdown",
      "id": "2d99ad22",
      "metadata": {
        "id": "2d99ad22"
      },
      "source": [
        "## complex to int"
      ]
    },
    {
      "cell_type": "code",
      "execution_count": null,
      "id": "5c71fada",
      "metadata": {
        "id": "5c71fada"
      },
      "outputs": [],
      "source": [
        "a=10+2j\n"
      ]
    }
  ],
  "metadata": {
    "kernelspec": {
      "display_name": "Python 3 (ipykernel)",
      "language": "python",
      "name": "python3"
    },
    "language_info": {
      "codemirror_mode": {
        "name": "ipython",
        "version": 3
      },
      "file_extension": ".py",
      "mimetype": "text/x-python",
      "name": "python",
      "nbconvert_exporter": "python",
      "pygments_lexer": "ipython3",
      "version": "3.9.7"
    },
    "colab": {
      "name": "MONANGI AKSHAYA VU21CSEN0101065.ipynb",
      "provenance": [],
      "collapsed_sections": [],
      "include_colab_link": true
    }
  },
  "nbformat": 4,
  "nbformat_minor": 5
}