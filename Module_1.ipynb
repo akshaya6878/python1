{
  "nbformat": 4,
  "nbformat_minor": 0,
  "metadata": {
    "colab": {
      "name": "Module 1.ipynb",
      "provenance": [],
      "collapsed_sections": [],
      "authorship_tag": "ABX9TyOLdxScrdFkvsYz/7bBThVO",
      "include_colab_link": true
    },
    "kernelspec": {
      "name": "python3",
      "display_name": "Python 3"
    },
    "language_info": {
      "name": "python"
    }
  },
  "cells": [
    {
      "cell_type": "markdown",
      "metadata": {
        "id": "view-in-github",
        "colab_type": "text"
      },
      "source": [
        "<a href=\"https://colab.research.google.com/github/akshaya6878/python1/blob/main/Module_1.ipynb\" target=\"_parent\"><img src=\"https://colab.research.google.com/assets/colab-badge.svg\" alt=\"Open In Colab\"/></a>"
      ]
    },
    {
      "cell_type": "markdown",
      "source": [
        "**Accept input from user and store it in variable and print the value**"
      ],
      "metadata": {
        "id": "sJQfE9bbfXfK"
      }
    },
    {
      "cell_type": "code",
      "source": [
        "a=20\n",
        "b=30\n",
        "c=int(input())\n",
        "d=int(input())\n",
        "e=a-(b)+(c)-(d)\n",
        "print(e)"
      ],
      "metadata": {
        "colab": {
          "base_uri": "https://localhost:8080/"
        },
        "id": "6NbFl_e_faN6",
        "outputId": "9967199b-edb1-43d4-d51a-4a67730cbc6e"
      },
      "execution_count": null,
      "outputs": [
        {
          "output_type": "stream",
          "name": "stdout",
          "text": [
            "300\n",
            "400\n",
            "-110\n"
          ]
        }
      ]
    },
    {
      "cell_type": "markdown",
      "source": [
        "**x Use of print statements and use of (.format )for printing different data types.**"
      ],
      "metadata": {
        "id": "45f1_VEqhE5L"
      }
    },
    {
      "cell_type": "code",
      "source": [
        "quantity=3\n",
        "item= 143\n",
        "price=50\n",
        "myorder=\"i want {}pieces of item {} of price {}\"\n",
        "print(myorder.format(quantity,item,price))\n"
      ],
      "metadata": {
        "id": "_pr0ibiphLC7",
        "colab": {
          "base_uri": "https://localhost:8080/"
        },
        "outputId": "08a3d3da-e819-4d8a-fe6b-56e118513896"
      },
      "execution_count": null,
      "outputs": [
        {
          "output_type": "stream",
          "name": "stdout",
          "text": [
            "i want 3pieces of item 143 of price 50\n"
          ]
        }
      ]
    },
    {
      "cell_type": "markdown",
      "source": [
        "**Take 2 numbers as user input and add, multiply, divide, subtract, remainder and print the output**"
      ],
      "metadata": {
        "id": "5MapjUWriYM8"
      }
    },
    {
      "cell_type": "code",
      "source": [
        "a=int(input(\"enter any number\"))\n",
        "b=int(input(\"enter any number\"))\n",
        "c=(a+b)\n",
        "d=(a-b)\n",
        "e=(a*b)\n",
        "f=(a/b)\n",
        "g=(a%b)\n",
        "print(c)\n",
        "print(d)\n",
        "print(e)\n",
        "print(f)\n",
        "print(g)"
      ],
      "metadata": {
        "colab": {
          "base_uri": "https://localhost:8080/"
        },
        "id": "jKKV1Cq2iaSL",
        "outputId": "6f070de4-12a0-4c8b-dd55-94fdc1c858ab"
      },
      "execution_count": null,
      "outputs": [
        {
          "output_type": "stream",
          "name": "stdout",
          "text": [
            "enter any number10\n",
            "enter any number20\n",
            "30\n",
            "-10\n",
            "200\n",
            "0.5\n",
            "10\n"
          ]
        }
      ]
    },
    {
      "cell_type": "markdown",
      "source": [
        "**Conversion of one unit to another**"
      ],
      "metadata": {
        "id": "3kmWCEl-jLyT"
      }
    },
    {
      "cell_type": "code",
      "source": [
        "hours = int(input(\"enter hours:\"))\n",
        "minutes = hours * 60\n",
        "print(minutes, \" Minutes\")\n",
        "km=int(input(\"enter number of km\"))\n",
        "meter=km*1000\n",
        "cm=meter*100\n",
        "print(meter)\n",
        "print(cm)"
      ],
      "metadata": {
        "colab": {
          "base_uri": "https://localhost:8080/"
        },
        "id": "MN8LxR3Yjmtk",
        "outputId": "caf34fff-33e4-491a-f368-614683bcd9cc"
      },
      "execution_count": null,
      "outputs": [
        {
          "output_type": "stream",
          "name": "stdout",
          "text": [
            "Please enter hours:2\n",
            "120  Minutes\n",
            "enter number of km200\n",
            "200000\n",
            "20000000\n"
          ]
        }
      ]
    },
    {
      "cell_type": "markdown",
      "source": [
        "**Usage of mathematical functions in python like math.ceil, floor, fabs, fmod, trunc,\n",
        "pow, sqrt etc**"
      ],
      "metadata": {
        "id": "bY0AsY8ikWFH"
      }
    },
    {
      "cell_type": "code",
      "source": [
        "import math\n",
        "a=4.567\n",
        "print(math.ceil(a))\n",
        "b=-4\n",
        "print(math.fabs(b))\n",
        "c=3.67\n",
        "print(math.floor(c))\n",
        "d=2**5\n",
        "print(d)\n",
        "e=math.sqrt(64)\n",
        "print(e)\n"
      ],
      "metadata": {
        "colab": {
          "base_uri": "https://localhost:8080/"
        },
        "id": "RaxLZ9OukdIy",
        "outputId": "8f65d8b1-c4ae-40e9-8a3e-58b0426da937"
      },
      "execution_count": null,
      "outputs": [
        {
          "output_type": "stream",
          "name": "stdout",
          "text": [
            "5\n",
            "4.0\n",
            "3\n",
            "32\n",
            "8.0\n"
          ]
        }
      ]
    },
    {
      "cell_type": "markdown",
      "source": [
        "**Building a mathematical calculator that can perform operations according to user input.\n",
        "Use decision making statement.**"
      ],
      "metadata": {
        "id": "ampKCh7kloeV"
      }
    },
    {
      "cell_type": "code",
      "source": [
        "a=2\n",
        "b=3\n",
        "print('1=\"addition\",2=\"subtraction\",3=\"multiplication\",4=\"division\"')\n",
        "c=int(input(\"enter any number upto 4\"))\n",
        "if c==1:\n",
        " print(a+b)\n",
        "elif c==2:\n",
        " print(a-b)\n",
        "elif c==3:\n",
        " print(a*b)\n",
        "elif c==4:\n",
        " print(a/b)\n",
        "else:\n",
        " print(invalid)"
      ],
      "metadata": {
        "colab": {
          "base_uri": "https://localhost:8080/"
        },
        "id": "kb3gwkNulrZj",
        "outputId": "35673a28-a29e-48e6-9c0c-2e2ec26fa5a1"
      },
      "execution_count": null,
      "outputs": [
        {
          "output_type": "stream",
          "name": "stdout",
          "text": [
            "1=\"addition\",2=\"subtraction\",3=\"multiplication\",4=\"division\"\n",
            "enter any number upto 43\n",
            "6\n"
          ]
        }
      ]
    },
    {
      "cell_type": "markdown",
      "source": [
        "**Accepting 5 different subject marks from user and displaying the grade of the student.**"
      ],
      "metadata": {
        "id": "eb7eQU8HlfB0"
      }
    },
    {
      "cell_type": "code",
      "source": [
        "sub1=int(input(\"enter marks\"))\n",
        "sub2=int(input(\"enter marks\"))\n",
        "sub3=int(input(\"enter marks\"))\n",
        "sub4=int(input(\"enter marks\"))\n",
        "sub5=int(input(\"enter marks\"))\n",
        "avg=(sub1+sub2+sub3+sub4+sub5)/5\n",
        "if(avg>=90):\n",
        "  print(\"grade A\")\n",
        "elif(avg>=80 and avg<90):\n",
        "  print(\"grade B\")\n",
        "elif(avg>=70 and avg<80):\n",
        "    print(\"grade C\")\n",
        "elif(avg>=60 and avg<70):\n",
        "  print(\"grade D\")\n",
        "else:\n",
        "    print(\"grade E\")\n",
        "\n"
      ],
      "metadata": {
        "colab": {
          "base_uri": "https://localhost:8080/"
        },
        "id": "QPJgckU-l_pU",
        "outputId": "8f342fd1-41bc-48ae-cdb9-7cda1d0188c2"
      },
      "execution_count": null,
      "outputs": [
        {
          "output_type": "stream",
          "name": "stdout",
          "text": [
            "enter marks90\n",
            "enter marks80\n",
            "enter marks99\n",
            "enter marks89\n",
            "enter marks98\n",
            "grade A\n"
          ]
        }
      ]
    },
    {
      "cell_type": "markdown",
      "source": [
        "**Printing all even numbers, odd numbers, count of even numbers, count of odd numbers**"
      ],
      "metadata": {
        "id": "CQDe-ps5pTB1"
      }
    },
    {
      "cell_type": "code",
      "source": [
        "a=int(input(\"enter the first number in the range\"))\n",
        "b=int(input(\"enter the second number in the range\"))\n",
        "for i in range(a,b):\n",
        " if i%2==0:\n",
        "  print(\"even numbers are\",i)\n",
        "else:\n",
        " print(\"odd numbers are \",i)"
      ],
      "metadata": {
        "colab": {
          "base_uri": "https://localhost:8080/"
        },
        "id": "EE30_Iv_pcSG",
        "outputId": "b3484317-08f3-4145-fd18-e9166e9319f2"
      },
      "execution_count": null,
      "outputs": [
        {
          "output_type": "stream",
          "name": "stdout",
          "text": [
            "enter the first number in the range30\n",
            "enter the second number in the range46\n",
            "even numbers are 30\n",
            "even numbers are 32\n",
            "even numbers are 34\n",
            "even numbers are 36\n",
            "even numbers are 38\n",
            "even numbers are 40\n",
            "even numbers are 42\n",
            "even numbers are 44\n",
            "odd numbers are  45\n"
          ]
        }
      ]
    },
    {
      "cell_type": "markdown",
      "source": [
        "**the factorial of a given number**"
      ],
      "metadata": {
        "id": "jaAi1I7wpRV8"
      }
    },
    {
      "cell_type": "code",
      "source": [
        "a=int(input(\"Enter a number\"))\n",
        "factorial = 1 \n",
        "for i in range(1,a + 1): \n",
        " factorial = factorial*i \n",
        "print(\"The factorial of\",a,\"is\",factorial)"
      ],
      "metadata": {
        "colab": {
          "base_uri": "https://localhost:8080/"
        },
        "id": "Exyvl6Q5pY6L",
        "outputId": "5bf55ef5-15c2-4636-d89b-e70997071b9e"
      },
      "execution_count": null,
      "outputs": [
        {
          "output_type": "stream",
          "name": "stdout",
          "text": [
            "Enter a number4\n",
            "The factorial of 4 is 24\n"
          ]
        }
      ]
    },
    {
      "cell_type": "markdown",
      "source": [
        "**gcd of two numbers**"
      ],
      "metadata": {
        "id": "rnYVixparaNr"
      }
    },
    {
      "cell_type": "code",
      "source": [
        "x =int (input (\"Enter the first number: \"))   \n",
        "y =int (input (\"Enter the second number: \"))  \n",
        "\n",
        "gcd = 1\n",
        "\n",
        "for i in range(1, min(x, y)):\n",
        "    if x % i == 0 and y % i == 0:\n",
        "        gcd = i\n",
        "print(\"GCD of\", x, \"and\", y, \"is\", gcd)"
      ],
      "metadata": {
        "colab": {
          "base_uri": "https://localhost:8080/"
        },
        "id": "Z3FsQrgjrdEE",
        "outputId": "e98a2590-93fb-407d-d971-5255b4389d8b"
      },
      "execution_count": null,
      "outputs": [
        {
          "output_type": "stream",
          "name": "stdout",
          "text": [
            "Enter the first number: 3\n",
            "Enter the second number: 6\n",
            "GCD of 3 and 6 is 1\n"
          ]
        }
      ]
    },
    {
      "cell_type": "markdown",
      "source": [
        "**fibonacci series**"
      ],
      "metadata": {
        "id": "VSnHyqG0trKU"
      }
    },
    {
      "cell_type": "code",
      "source": [
        "num = int(input(\"Enter the Number:\"))\n",
        "n1, n2 = 0, 1\n",
        "print(\"Fibonacci Series:\", n1, n2, end=\" \")\n",
        "for i in range(2, num):\n",
        "    n3 = n1 + n2\n",
        "    n1 = n2\n",
        "    n2 = n3\n",
        "    print(n3, end=\" \")\n",
        "\n",
        "print()"
      ],
      "metadata": {
        "colab": {
          "base_uri": "https://localhost:8080/"
        },
        "id": "y2WJEe19turI",
        "outputId": "e4744887-197e-425c-d978-d1e6ebeacd48"
      },
      "execution_count": null,
      "outputs": [
        {
          "output_type": "stream",
          "name": "stdout",
          "text": [
            "Enter the Number:30\n",
            "Fibonacci Series: 0 1 1 2 3 5 8 13 21 34 55 89 144 233 377 610 987 1597 2584 4181 6765 10946 17711 28657 46368 75025 121393 196418 317811 514229 \n"
          ]
        }
      ]
    },
    {
      "cell_type": "markdown",
      "source": [
        "**palindrome number**"
      ],
      "metadata": {
        "id": "8G0ofBXdw-Aq"
      }
    },
    {
      "cell_type": "code",
      "source": [
        " a=int(input(\"enter the number\"))\n",
        "rev=0\n",
        "temp=a\n",
        "while temp>0:\n",
        "             rem=temp%10\n",
        "             rev=(rev*10)+rem\n",
        "             temp=temp//10 \n",
        "             if a==rev: \n",
        "                print(\"palindrome\")\n",
        "else:\n",
        "                print(\"not a plaindrome\")"
      ],
      "metadata": {
        "id": "S41YBpuzxE_s",
        "colab": {
          "base_uri": "https://localhost:8080/",
          "height": 0
        },
        "outputId": "8812869f-9f0b-42c3-f6da-183d5309269e"
      },
      "execution_count": 3,
      "outputs": [
        {
          "output_type": "stream",
          "name": "stdout",
          "text": [
            "enter the number35\n",
            "not a plaindrome\n"
          ]
        }
      ]
    },
    {
      "cell_type": "markdown",
      "source": [
        ""
      ],
      "metadata": {
        "id": "smo0zJ_ayHIH"
      }
    },
    {
      "cell_type": "markdown",
      "source": [
        "**perfect number**"
      ],
      "metadata": {
        "id": "3PEkUvqOGCC5"
      }
    },
    {
      "cell_type": "code",
      "source": [
        "a=int(input(\"enter the number\"))\n",
        "sum=0\n",
        "for i in range (1,a):\n",
        "  if a%i==0:\n",
        "    sum=sum+i\n",
        "    if sum==a:\n",
        "      print(\"perfect number\")\n",
        "else:\n",
        "          print(\"not a perfect number\")"
      ],
      "metadata": {
        "colab": {
          "base_uri": "https://localhost:8080/"
        },
        "id": "2P0F2FdaGIRM",
        "outputId": "c3f6fe83-7cbf-49fe-ecb0-012a25c50bf8"
      },
      "execution_count": null,
      "outputs": [
        {
          "output_type": "stream",
          "name": "stdout",
          "text": [
            "enter the number25\n",
            "not a perfect number\n"
          ]
        }
      ]
    },
    {
      "cell_type": "markdown",
      "source": [
        "**compound intetrst using loop**"
      ],
      "metadata": {
        "id": "bVdyF7gbHIzc"
      }
    },
    {
      "cell_type": "code",
      "source": [
        "import math\n",
        "p=int(input(\"enter principle amount\"))\n",
        "t=int(input(\"enter no of years\"))\n",
        "r=int(input(\"enter interest amount\"))\n",
        "for i in range(1,t+1):\n",
        "  si=(p*t*r)/100\n",
        "  print(i,\"yr interest si is\",si)\n",
        "  ci=p*(math.pow(1+r/100,i))\n",
        "  print(i,\"yr interest ci is\",ci)"
      ],
      "metadata": {
        "colab": {
          "base_uri": "https://localhost:8080/"
        },
        "id": "EVCZ4UuxHs0r",
        "outputId": "ec24b332-37dc-496c-ec1f-d2fa3d872a4f"
      },
      "execution_count": null,
      "outputs": [
        {
          "output_type": "stream",
          "name": "stdout",
          "text": [
            "enter principle amount1000\n",
            "enter no of years6\n",
            "enter interest amount2\n",
            "1 yr interest si is 120.0\n",
            "1 yr interest ci is 1020.0\n",
            "2 yr interest si is 120.0\n",
            "2 yr interest ci is 1040.4\n",
            "3 yr interest si is 120.0\n",
            "3 yr interest ci is 1061.208\n",
            "4 yr interest si is 120.0\n",
            "4 yr interest ci is 1082.43216\n",
            "5 yr interest si is 120.0\n",
            "5 yr interest ci is 1104.0808032\n",
            "6 yr interest si is 120.0\n",
            "6 yr interest ci is 1126.1624192640002\n"
          ]
        }
      ]
    },
    {
      "cell_type": "markdown",
      "source": [
        "**STRONG NUMBER**"
      ],
      "metadata": {
        "id": "ctTRXOpP83RM"
      }
    },
    {
      "cell_type": "code",
      "source": [
        "num=int(input(\"enter number\"))\n",
        "sum=0\n",
        "a=num\n",
        "while (num):\n",
        "  i=1\n",
        "  f=1\n",
        "  r=num %10\n",
        "  while(i<=r):\n",
        "    f=f*i\n",
        "    i=i+1\n",
        "    sum=sum+f\n",
        "    num=num//10\n",
        "    if (sum==a):\n",
        "      print(\"strong number\")\n",
        "    else:\n",
        "        print(\"not a strong number\")"
      ],
      "metadata": {
        "id": "LNkzciZ186xm",
        "colab": {
          "base_uri": "https://localhost:8080/",
          "height": 0
        },
        "outputId": "56183b68-b2d3-4adb-924b-20f11099a7d8"
      },
      "execution_count": 2,
      "outputs": [
        {
          "output_type": "stream",
          "name": "stdout",
          "text": [
            "enter number35\n",
            "not a strong number\n",
            "not a strong number\n",
            "not a strong number\n",
            "not a strong number\n",
            "not a strong number\n"
          ]
        }
      ]
    }
  ]
}