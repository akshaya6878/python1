{
  "nbformat": 4,
  "nbformat_minor": 0,
  "metadata": {
    "colab": {
      "name": "Tuple.ipynb",
      "provenance": [],
      "collapsed_sections": [],
      "authorship_tag": "ABX9TyM2RiNl8xDakKcl7ptoM/iv",
      "include_colab_link": true
    },
    "kernelspec": {
      "name": "python3",
      "display_name": "Python 3"
    },
    "language_info": {
      "name": "python"
    }
  },
  "cells": [
    {
      "cell_type": "markdown",
      "metadata": {
        "id": "view-in-github",
        "colab_type": "text"
      },
      "source": [
        "<a href=\"https://colab.research.google.com/github/akshaya6878/python1/blob/main/Tuple.ipynb\" target=\"_parent\"><img src=\"https://colab.research.google.com/assets/colab-badge.svg\" alt=\"Open In Colab\"/></a>"
      ]
    },
    {
      "cell_type": "markdown",
      "source": [
        "**TUPLE**"
      ],
      "metadata": {
        "id": "3RD4_PiLwHCP"
      }
    },
    {
      "cell_type": "code",
      "source": [
        "colours=(\"pink\",\"blue\",\"yellow\")\n",
        "print(colours)"
      ],
      "metadata": {
        "colab": {
          "base_uri": "https://localhost:8080/"
        },
        "id": "gl8BrPKswNP2",
        "outputId": "650e7eee-9c05-4a9d-da9a-4d953da9dc5f"
      },
      "execution_count": null,
      "outputs": [
        {
          "output_type": "stream",
          "name": "stdout",
          "text": [
            "('pink', 'blue', 'yellow')\n"
          ]
        }
      ]
    },
    {
      "cell_type": "markdown",
      "source": [
        "**tuple length**"
      ],
      "metadata": {
        "id": "TGrrqJrbww0H"
      }
    },
    {
      "cell_type": "code",
      "source": [
        "colours=(\"pink\",\"blue\",\"yellow\")\n",
        "print(len(colours))"
      ],
      "metadata": {
        "colab": {
          "base_uri": "https://localhost:8080/"
        },
        "id": "gdr5Zz87w0m5",
        "outputId": "4cf1634c-abec-48e3-cc12-b0e117018624"
      },
      "execution_count": null,
      "outputs": [
        {
          "output_type": "stream",
          "name": "stdout",
          "text": [
            "3\n"
          ]
        }
      ]
    },
    {
      "cell_type": "markdown",
      "source": [
        "**type tuple**"
      ],
      "metadata": {
        "id": "Y5sEhkOIxC9P"
      }
    },
    {
      "cell_type": "code",
      "source": [
        "colour=(\"pink\",)\n",
        "print(type(colour))\n",
        "colour=(\"pink\")\n",
        "print(type(colour))"
      ],
      "metadata": {
        "colab": {
          "base_uri": "https://localhost:8080/"
        },
        "id": "eQV5XrfSxGHV",
        "outputId": "3b2f0193-fdbc-4a50-cd34-7692662cffcb"
      },
      "execution_count": null,
      "outputs": [
        {
          "output_type": "stream",
          "name": "stdout",
          "text": [
            "<class 'tuple'>\n",
            "<class 'str'>\n"
          ]
        }
      ]
    },
    {
      "cell_type": "markdown",
      "source": [
        "**tuple data**"
      ],
      "metadata": {
        "id": "Mvm7lDtFxdvY"
      }
    },
    {
      "cell_type": "code",
      "source": [
        "colours=(\"pink\",\"blue\",\"yellow\")\n",
        "numbers=(1,2,3,4)\n",
        "tuple3=(True,False,True)\n",
        "print(colours)\n",
        "print(numbers)\n",
        "print(tuple3)"
      ],
      "metadata": {
        "colab": {
          "base_uri": "https://localhost:8080/"
        },
        "id": "F4G45qgBxgd9",
        "outputId": "fb5ce7da-dd83-4b12-8d9b-034ea27c3d0b"
      },
      "execution_count": null,
      "outputs": [
        {
          "output_type": "stream",
          "name": "stdout",
          "text": [
            "('pink', 'blue', 'yellow')\n",
            "(1, 2, 3, 4)\n",
            "(True, False, True)\n"
          ]
        }
      ]
    },
    {
      "cell_type": "markdown",
      "source": [
        "**acess tuple**"
      ],
      "metadata": {
        "id": "CJWjznikyx1Q"
      }
    },
    {
      "cell_type": "code",
      "source": [
        "colours=(\"pink\",\"blue\",\"yellow\")\n",
        "print(colours[2])"
      ],
      "metadata": {
        "colab": {
          "base_uri": "https://localhost:8080/"
        },
        "id": "1kAx9jfdy1CN",
        "outputId": "582a7678-e8b8-4447-eb90-f0ee68747ed8"
      },
      "execution_count": null,
      "outputs": [
        {
          "output_type": "stream",
          "name": "stdout",
          "text": [
            "yellow\n"
          ]
        }
      ]
    },
    {
      "cell_type": "markdown",
      "source": [
        "**negative indexing**"
      ],
      "metadata": {
        "id": "AVeIrE44zNQI"
      }
    },
    {
      "cell_type": "code",
      "source": [
        "colours=(\"pink\",\"blue\",\"yellow\")\n",
        "print(colours[-1])"
      ],
      "metadata": {
        "colab": {
          "base_uri": "https://localhost:8080/"
        },
        "id": "ew8PbusfzRt9",
        "outputId": "abf9514a-dc49-4453-d164-7c17956c7a28"
      },
      "execution_count": null,
      "outputs": [
        {
          "output_type": "stream",
          "name": "stdout",
          "text": [
            "yellow\n"
          ]
        }
      ]
    },
    {
      "cell_type": "markdown",
      "source": [
        "**ranging index**"
      ],
      "metadata": {
        "id": "UXDWT7avzcW_"
      }
    },
    {
      "cell_type": "code",
      "source": [
        "colours=(\"pink\",\"blue\",\"yellow\",\"orange\",\"red\",\"grey\")\n",
        "print(colours[1:5])\n",
        "colours=(\"pink\",\"blue\",\"yellow\",\"orange\",\"red\",\"grey\")\n",
        "print(colours[:5])\n",
        "colours=(\"pink\",\"blue\",\"yellow\",\"orange\",\"red\",\"grey\")\n",
        "print(colours[3:])"
      ],
      "metadata": {
        "colab": {
          "base_uri": "https://localhost:8080/"
        },
        "id": "GwL3wkBMzgDN",
        "outputId": "ef25a695-7503-42bf-9850-6b7a15ff0b34"
      },
      "execution_count": null,
      "outputs": [
        {
          "output_type": "stream",
          "name": "stdout",
          "text": [
            "('blue', 'yellow', 'orange', 'red')\n",
            "('pink', 'blue', 'yellow', 'orange', 'red')\n",
            "('orange', 'red', 'grey')\n"
          ]
        }
      ]
    },
    {
      "cell_type": "markdown",
      "source": [
        "**check if item exists**"
      ],
      "metadata": {
        "id": "mRu8izO90bY3"
      }
    },
    {
      "cell_type": "code",
      "source": [
        "colours=(\"pink\",\"blue\",\"yellow\",\"orange\",\"red\",\"grey\")\n",
        "if \"yellow\" in colours:\n",
        " print(\"yes,yellow is in colour tuple\")"
      ],
      "metadata": {
        "colab": {
          "base_uri": "https://localhost:8080/"
        },
        "id": "0yNaTejZ0hGD",
        "outputId": "695950ad-b4f6-4b23-c9eb-e2d8b3029a45"
      },
      "execution_count": null,
      "outputs": [
        {
          "output_type": "stream",
          "name": "stdout",
          "text": [
            "yes,yellow is in colour tuple\n"
          ]
        }
      ]
    },
    {
      "cell_type": "markdown",
      "source": [
        "**change tuple**"
      ],
      "metadata": {
        "id": "_NQLKnNV1ZLX"
      }
    },
    {
      "cell_type": "code",
      "source": [
        "x=(\"pink\",\"blue\",\"yellow\",\"orange\",\"red\",\"grey\")\n",
        "y=list(x)\n",
        "y[3]=\"violet\"\n",
        "x=tuple(y)\n",
        "print(x)"
      ],
      "metadata": {
        "colab": {
          "base_uri": "https://localhost:8080/"
        },
        "id": "CbpABMXR1c4s",
        "outputId": "bbd379f0-ce07-44b0-d1e2-9e224601e0c9"
      },
      "execution_count": null,
      "outputs": [
        {
          "output_type": "stream",
          "name": "stdout",
          "text": [
            "('pink', 'blue', 'yellow', 'violet', 'red', 'grey')\n"
          ]
        }
      ]
    },
    {
      "cell_type": "markdown",
      "source": [
        "**add items**"
      ],
      "metadata": {
        "id": "FqOQDz5c2Ny-"
      }
    },
    {
      "cell_type": "code",
      "source": [
        "x=(\"pink\",\"blue\",\"yellow\",\"orange\",\"red\",\"grey\")\n",
        "y=list(x)\n",
        "y.append(\"violet\")\n",
        "x=tuple(y)\n",
        "print(x)"
      ],
      "metadata": {
        "colab": {
          "base_uri": "https://localhost:8080/"
        },
        "id": "0coSNOC72QWb",
        "outputId": "73a3ff63-6add-42bc-ca96-0e3c6f51cb4d"
      },
      "execution_count": null,
      "outputs": [
        {
          "output_type": "stream",
          "name": "stdout",
          "text": [
            "('pink', 'blue', 'yellow', 'orange', 'red', 'grey', 'violet')\n"
          ]
        }
      ]
    },
    {
      "cell_type": "markdown",
      "source": [
        "**add tuple to tuple**"
      ],
      "metadata": {
        "id": "vyU4tN-a2_zV"
      }
    },
    {
      "cell_type": "code",
      "source": [
        "x=(\"pink\",\"blue\",\"yellow\",\"orange\",\"red\",\"grey\")\n",
        "y=(1,)\n",
        "x+=y\n",
        "print(x)"
      ],
      "metadata": {
        "colab": {
          "base_uri": "https://localhost:8080/"
        },
        "id": "fxColAZ03KnB",
        "outputId": "e6b951cd-6566-4e55-b6c0-9de06d89fc65"
      },
      "execution_count": null,
      "outputs": [
        {
          "output_type": "stream",
          "name": "stdout",
          "text": [
            "('pink', 'blue', 'yellow', 'orange', 'red', 'grey', 1)\n"
          ]
        }
      ]
    },
    {
      "cell_type": "markdown",
      "source": [
        "**remove items**"
      ],
      "metadata": {
        "id": "kLgr4iPc4rnM"
      }
    },
    {
      "cell_type": "code",
      "source": [
        "x=(\"pink\",\"blue\",\"yellow\",\"orange\",\"red\",\"grey\")\n",
        "y=list(x)\n",
        "y.remove(\"blue\")\n",
        "x=tuple(y)\n",
        "print(x)"
      ],
      "metadata": {
        "colab": {
          "base_uri": "https://localhost:8080/"
        },
        "id": "RR2H-78i4vAa",
        "outputId": "310a1580-0677-47b0-b566-ad6bbe34d82d"
      },
      "execution_count": null,
      "outputs": [
        {
          "output_type": "stream",
          "name": "stdout",
          "text": [
            "('pink', 'yellow', 'orange', 'red', 'grey')\n"
          ]
        }
      ]
    },
    {
      "cell_type": "code",
      "source": [
        "colours = (\"pink\",\"blue\",\"yellow\",\"orange\",\"red\",\"grey\")\n",
        "del colours\n",
        "print(colours)"
      ],
      "metadata": {
        "colab": {
          "base_uri": "https://localhost:8080/",
          "height": 130
        },
        "id": "HuKaCZ7R5E9d",
        "outputId": "cd3fb19e-b6f6-4608-a4b5-a398b6bc83e0"
      },
      "execution_count": null,
      "outputs": [
        {
          "output_type": "error",
          "ename": "IndentationError",
          "evalue": "ignored",
          "traceback": [
            "\u001b[0;36m  File \u001b[0;32m\"<ipython-input-39-2bac495f3199>\"\u001b[0;36m, line \u001b[0;32m3\u001b[0m\n\u001b[0;31m    print(colours)\u001b[0m\n\u001b[0m    ^\u001b[0m\n\u001b[0;31mIndentationError\u001b[0m\u001b[0;31m:\u001b[0m unexpected indent\n"
          ]
        }
      ]
    },
    {
      "cell_type": "markdown",
      "source": [
        "**unpacking tuple**"
      ],
      "metadata": {
        "id": "7SyAFTL47HWa"
      }
    },
    {
      "cell_type": "code",
      "source": [
        "colours = (\"pink\",\"blue\",\"yellow\")\n",
        "(x,y,z) = colours\n",
        "print(x)\n",
        "print(y)\n",
        "print(z)\n"
      ],
      "metadata": {
        "colab": {
          "base_uri": "https://localhost:8080/"
        },
        "id": "9WL4Nx917QKg",
        "outputId": "d4ded7a9-6fc0-4b15-d86c-31b12d454f48"
      },
      "execution_count": null,
      "outputs": [
        {
          "output_type": "stream",
          "name": "stdout",
          "text": [
            "pink\n",
            "blue\n",
            "yellow\n"
          ]
        }
      ]
    },
    {
      "cell_type": "markdown",
      "source": [
        "**Using Asterisk**"
      ],
      "metadata": {
        "id": "_Lp3BURM8psT"
      }
    },
    {
      "cell_type": "code",
      "source": [
        "colours = (\"pink\",\"blue\",\"yellow\",\"red\",\"black\",\"green\")\n",
        "(x,y,*z) = colours\n",
        "print(x)\n",
        "print(y)\n",
        "print(z)\n",
        "colours = (\"pink\",\"blue\",1,\"red\",\"black\",True)\n",
        "(x,*y,z) = colours\n",
        "print(x)\n",
        "print(y)\n",
        "print(z)\n"
      ],
      "metadata": {
        "colab": {
          "base_uri": "https://localhost:8080/"
        },
        "id": "W2Gi1dk98thJ",
        "outputId": "90bf68a8-4cdb-435d-b3f0-86b41e4c871c"
      },
      "execution_count": null,
      "outputs": [
        {
          "output_type": "stream",
          "name": "stdout",
          "text": [
            "pink\n",
            "blue\n",
            "['yellow', 'red', 'black', 'green']\n",
            "pink\n",
            "['blue', 1, 'red', 'black']\n",
            "True\n"
          ]
        }
      ]
    },
    {
      "cell_type": "markdown",
      "source": [
        "**loops through tuple**"
      ],
      "metadata": {
        "id": "ZiX3bgTr9vRi"
      }
    },
    {
      "cell_type": "code",
      "source": [
        "colours = (\"pink\",\"blue\",\"yellow\",\"red\",\"black\",\"green\")\n",
        "for x in colours: \n",
        " print(x)"
      ],
      "metadata": {
        "colab": {
          "base_uri": "https://localhost:8080/"
        },
        "id": "RJ-8p5zT90Hn",
        "outputId": "11b117cd-0f16-4a5f-eac4-9f4bc12a005a"
      },
      "execution_count": null,
      "outputs": [
        {
          "output_type": "stream",
          "name": "stdout",
          "text": [
            "pink\n",
            "blue\n",
            "yellow\n",
            "red\n",
            "black\n",
            "green\n"
          ]
        }
      ]
    },
    {
      "cell_type": "markdown",
      "source": [
        "**Loop Through the Index Numbers**"
      ],
      "metadata": {
        "id": "ESA279UK-YCa"
      }
    },
    {
      "cell_type": "code",
      "source": [
        "colours = (\"pink\",\"blue\",\"yellow\",\"red\",\"black\",\"green\")\n",
        "for x in range(len(colours)):\n",
        " print(colours[x])"
      ],
      "metadata": {
        "colab": {
          "base_uri": "https://localhost:8080/"
        },
        "id": "QPCknfdn-Zso",
        "outputId": "461053a0-3855-4c78-c9bd-3f7caa544cfd"
      },
      "execution_count": null,
      "outputs": [
        {
          "output_type": "stream",
          "name": "stdout",
          "text": [
            "pink\n",
            "blue\n",
            "yellow\n",
            "red\n",
            "black\n",
            "green\n"
          ]
        }
      ]
    },
    {
      "cell_type": "code",
      "source": [
        ""
      ],
      "metadata": {
        "id": "SgnEaqRm-vQo"
      },
      "execution_count": null,
      "outputs": []
    }
  ]
}