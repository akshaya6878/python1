{
  "nbformat": 4,
  "nbformat_minor": 0,
  "metadata": {
    "colab": {
      "name": "dictionaries.ipynb",
      "provenance": [],
      "collapsed_sections": [],
      "authorship_tag": "ABX9TyPv2P1ZfhJmQGBOiC/ilkdE",
      "include_colab_link": true
    },
    "kernelspec": {
      "name": "python3",
      "display_name": "Python 3"
    },
    "language_info": {
      "name": "python"
    }
  },
  "cells": [
    {
      "cell_type": "markdown",
      "metadata": {
        "id": "view-in-github",
        "colab_type": "text"
      },
      "source": [
        "<a href=\"https://colab.research.google.com/github/akshaya6878/python1/blob/main/dictionaries.ipynb\" target=\"_parent\"><img src=\"https://colab.research.google.com/assets/colab-badge.svg\" alt=\"Open In Colab\"/></a>"
      ]
    },
    {
      "cell_type": "markdown",
      "source": [
        "**dictionaries**"
      ],
      "metadata": {
        "id": "uyO5MyrYLC0S"
      }
    },
    {
      "cell_type": "code",
      "source": [
        "thisdict =\t{\n",
        "  \"brand\": \"apple\",\n",
        "  \"model\": \"12 pro\",\n",
        "  \"year\": 2020\n",
        "}\n",
        "print(thisdict)\n"
      ],
      "metadata": {
        "colab": {
          "base_uri": "https://localhost:8080/"
        },
        "id": "KRuPIEByK8Aq",
        "outputId": "9589dc0f-9cc2-4562-e0e6-83a58f590641"
      },
      "execution_count": null,
      "outputs": [
        {
          "output_type": "stream",
          "name": "stdout",
          "text": [
            "{'brand': 'apple', 'model': '12 pro', 'year': 2020}\n"
          ]
        }
      ]
    },
    {
      "cell_type": "code",
      "source": [
        "thisdict =\t{\n",
        "  \"brand\": \"apple\",\n",
        "  \"model\": \"12 pro\",\n",
        "  \"year\": 2020\n",
        "}\n",
        "print(thisdict[\"brand\"])\n"
      ],
      "metadata": {
        "colab": {
          "base_uri": "https://localhost:8080/"
        },
        "id": "xSM-mQspLi6B",
        "outputId": "da09f48f-6a29-4116-b410-6ce29abe82e6"
      },
      "execution_count": null,
      "outputs": [
        {
          "output_type": "stream",
          "name": "stdout",
          "text": [
            "apple\n"
          ]
        }
      ]
    },
    {
      "cell_type": "markdown",
      "source": [
        "**duplicates**"
      ],
      "metadata": {
        "id": "Fk_9K40lL17u"
      }
    },
    {
      "cell_type": "code",
      "source": [
        "thisdict = {\n",
        "  \"brand\": \"apple\",\n",
        "  \"model\": \"12 pro\",\n",
        "  \"year\": 2020,\n",
        "  \"year\": 2021\n",
        "}\n",
        "print(thisdict)"
      ],
      "metadata": {
        "colab": {
          "base_uri": "https://localhost:8080/"
        },
        "id": "mdY6u0OtL4AL",
        "outputId": "025a1239-189a-402f-ac50-591d68af5cdf"
      },
      "execution_count": null,
      "outputs": [
        {
          "output_type": "stream",
          "name": "stdout",
          "text": [
            "{'brand': 'apple', 'model': '12 pro', 'year': 2021}\n"
          ]
        }
      ]
    },
    {
      "cell_type": "markdown",
      "source": [
        "**length**"
      ],
      "metadata": {
        "id": "G84RJ9xlMLGd"
      }
    },
    {
      "cell_type": "code",
      "source": [
        "thisdict =\t{\n",
        "  \"brand\": \"apple\",\n",
        "  \"model\": \"12 pro\",\n",
        "  \"year\": 2020\n",
        "}\n",
        "print(len(thisdict))\n"
      ],
      "metadata": {
        "colab": {
          "base_uri": "https://localhost:8080/"
        },
        "id": "vQ-YRZjiMPVp",
        "outputId": "2c8f5fbe-911b-45b0-e419-41c5b37c14b1"
      },
      "execution_count": null,
      "outputs": [
        {
          "output_type": "stream",
          "name": "stdout",
          "text": [
            "3\n"
          ]
        }
      ]
    },
    {
      "cell_type": "markdown",
      "source": [
        "**data type**"
      ],
      "metadata": {
        "id": "CvHdxPCVMhzQ"
      }
    },
    {
      "cell_type": "code",
      "source": [
        "thisdict =\t{\n",
        "  \"brand\": \"apple\",\n",
        "  \"model\": \"12 pro\",\n",
        "  \"year\": 2020\n",
        "}\n",
        "print(type(thisdict))\n"
      ],
      "metadata": {
        "colab": {
          "base_uri": "https://localhost:8080/"
        },
        "id": "z5beppdgMYBT",
        "outputId": "d8d75225-4007-44fd-e419-38e8b3b692a8"
      },
      "execution_count": null,
      "outputs": [
        {
          "output_type": "stream",
          "name": "stdout",
          "text": [
            "<class 'dict'>\n"
          ]
        }
      ]
    },
    {
      "cell_type": "markdown",
      "source": [
        "**acess items**"
      ],
      "metadata": {
        "id": "HV5D40vVMz2A"
      }
    },
    {
      "cell_type": "code",
      "source": [
        "thisdict =\t{\n",
        "  \"brand\": \"apple\",\n",
        "  \"model\": \"12 pro\",\n",
        "  \"year\": 2020\n",
        "}\n",
        "x=(thisdict[\"brand\"])\n",
        "print(x)"
      ],
      "metadata": {
        "id": "fcqlAWgiM3CM",
        "colab": {
          "base_uri": "https://localhost:8080/"
        },
        "outputId": "2b919df7-5463-4387-db88-1401f1322a30"
      },
      "execution_count": null,
      "outputs": [
        {
          "output_type": "stream",
          "name": "stdout",
          "text": [
            "apple\n"
          ]
        }
      ]
    },
    {
      "cell_type": "code",
      "source": [
        "thisdict =\t{\n",
        "  \"brand\": \"apple\",\n",
        "  \"model\": \"12 pro\",\n",
        "  \"year\": 2020\n",
        "}\n",
        "x=thisdict.get(\"brand\")\n",
        "print(x)"
      ],
      "metadata": {
        "colab": {
          "base_uri": "https://localhost:8080/"
        },
        "id": "mIjah5pgQaMf",
        "outputId": "b3298ed3-e9bd-4a76-afab-541ff2c276fa"
      },
      "execution_count": null,
      "outputs": [
        {
          "output_type": "stream",
          "name": "stdout",
          "text": [
            "apple\n"
          ]
        }
      ]
    },
    {
      "cell_type": "code",
      "source": [
        "thisdict =\t{\n",
        "  \"brand\": \"apple\",\n",
        "  \"model\": \"12 pro\",\n",
        "  \"year\": 2020\n",
        "}\n",
        "x=thisdict.keys()\n",
        "print(x)"
      ],
      "metadata": {
        "colab": {
          "base_uri": "https://localhost:8080/"
        },
        "id": "2tMf1YzzQrVw",
        "outputId": "4320254e-2ed0-4efa-d192-5c8009d89924"
      },
      "execution_count": null,
      "outputs": [
        {
          "output_type": "stream",
          "name": "stdout",
          "text": [
            "dict_keys(['brand', 'model', 'year'])\n"
          ]
        }
      ]
    },
    {
      "cell_type": "code",
      "source": [
        "phone= {\n",
        "\"brand\": \"apple\",\n",
        "\"model\": \"12 pro\",\n",
        "\"year\": 2020\n",
        "}\n",
        "x = phone.keys()\n",
        "print(x) \n",
        "phone[\"color\"] = \"red\"\n",
        "print(x) \n"
      ],
      "metadata": {
        "colab": {
          "base_uri": "https://localhost:8080/"
        },
        "id": "aTNmsWnCQvQE",
        "outputId": "44c778cb-3125-42a7-b38b-5463b00c2669"
      },
      "execution_count": null,
      "outputs": [
        {
          "output_type": "stream",
          "name": "stdout",
          "text": [
            "dict_keys(['brand', 'model', 'year'])\n",
            "dict_keys(['brand', 'model', 'year', 'color'])\n"
          ]
        }
      ]
    },
    {
      "cell_type": "markdown",
      "source": [
        "**get values**"
      ],
      "metadata": {
        "id": "sYurOKtcRnu-"
      }
    },
    {
      "cell_type": "code",
      "source": [
        "thisdict =\t{\n",
        "  \"brand\": \"apple\",\n",
        "  \"model\": \"12 pro\",\n",
        "  \"year\": 2020\n",
        "}\n",
        "x=thisdict.values()\n",
        "print(x)"
      ],
      "metadata": {
        "colab": {
          "base_uri": "https://localhost:8080/"
        },
        "id": "vDdz2806Rr1-",
        "outputId": "599cb2e5-10b7-40e6-c2c4-b701808606a9"
      },
      "execution_count": null,
      "outputs": [
        {
          "output_type": "stream",
          "name": "stdout",
          "text": [
            "dict_values(['apple', '12 pro', 2020])\n"
          ]
        }
      ]
    },
    {
      "cell_type": "code",
      "source": [
        "phone = {\n",
        "\"brand\": \"apple\",\n",
        "\"model\": \"12 pro\",\n",
        "\"year\": 2020\n",
        "}\n",
        "x = phone.values()\n",
        "print(x)\n",
        "phone[\"year\"] = 2021\n",
        "print(x)\n"
      ],
      "metadata": {
        "colab": {
          "base_uri": "https://localhost:8080/"
        },
        "id": "0xMaeeusR_pE",
        "outputId": "07c05c55-4442-496c-c884-80533b9ce05e"
      },
      "execution_count": null,
      "outputs": [
        {
          "output_type": "stream",
          "name": "stdout",
          "text": [
            "dict_values(['apple', '12 pro', 2020])\n",
            "dict_values(['apple', '12 pro', 2021])\n"
          ]
        }
      ]
    },
    {
      "cell_type": "markdown",
      "source": [
        "**get items**"
      ],
      "metadata": {
        "id": "QVRxVidRScEA"
      }
    },
    {
      "cell_type": "code",
      "source": [
        "thisdict =\t{\n",
        "  \"brand\": \"apple\",\n",
        "  \"model\": \"12 pro\",\n",
        "  \"year\": 2020\n",
        "}\n",
        "x=thisdict.items()\n",
        "print(x)"
      ],
      "metadata": {
        "colab": {
          "base_uri": "https://localhost:8080/"
        },
        "id": "joPBV2aUSedX",
        "outputId": "4813c7b9-db4e-4821-9678-12bc3edd67e2"
      },
      "execution_count": null,
      "outputs": [
        {
          "output_type": "stream",
          "name": "stdout",
          "text": [
            "dict_items([('brand', 'apple'), ('model', '12 pro'), ('year', 2020)])\n"
          ]
        }
      ]
    },
    {
      "cell_type": "code",
      "source": [
        "phone = {\n",
        "\"brand\": \"apple\",\n",
        "\"model\": \"12 pro\",\n",
        "\"year\": 2020\n",
        "}\n",
        "x = phone.items()\n",
        "print(x)\n",
        "phone[\"year\"] = 2021\n",
        "print(x)\n"
      ],
      "metadata": {
        "colab": {
          "base_uri": "https://localhost:8080/"
        },
        "id": "V_P2mYzHSoD2",
        "outputId": "4d253114-a1e3-42b6-95f5-1a29cab38da4"
      },
      "execution_count": null,
      "outputs": [
        {
          "output_type": "stream",
          "name": "stdout",
          "text": [
            "dict_items([('brand', 'apple'), ('model', '12 pro'), ('year', 2020)])\n",
            "dict_items([('brand', 'apple'), ('model', '12 pro'), ('year', 2021)])\n"
          ]
        }
      ]
    },
    {
      "cell_type": "markdown",
      "source": [
        "**check if exists or not**"
      ],
      "metadata": {
        "id": "i2dHIX23S1cK"
      }
    },
    {
      "cell_type": "code",
      "source": [
        "thisdict = {\n",
        "  \"brand\": \"apple\",\n",
        "  \"model\": \"12 pro\",\n",
        "  \"year\": 2020\n",
        "}\n",
        "if \"model\" in thisdict:\n",
        "  print(\"Yes, 'model' is one of the keys in the thisdict dictionary\")\n"
      ],
      "metadata": {
        "colab": {
          "base_uri": "https://localhost:8080/"
        },
        "id": "BXv4QbfdS417",
        "outputId": "f8911163-e947-4469-9d3e-f2c62e135f5f"
      },
      "execution_count": null,
      "outputs": [
        {
          "output_type": "stream",
          "name": "stdout",
          "text": [
            "Yes, 'model' is one of the keys in the thisdict dictionary\n"
          ]
        }
      ]
    },
    {
      "cell_type": "markdown",
      "source": [
        "**change values**"
      ],
      "metadata": {
        "id": "mha0jUg6THcm"
      }
    },
    {
      "cell_type": "code",
      "source": [
        "thisdict =\t{\n",
        "  \"brand\": \"apple\",\n",
        "  \"model\": \"12 pro\",\n",
        "  \"year\": 2020\n",
        "}\n",
        "thisdict[\"year\"] = 2021\n",
        "print(thisdict)\n"
      ],
      "metadata": {
        "colab": {
          "base_uri": "https://localhost:8080/"
        },
        "id": "asWaR-RaTJ9l",
        "outputId": "b0cd2c86-86ca-4351-e8aa-f25877ca863d"
      },
      "execution_count": null,
      "outputs": [
        {
          "output_type": "stream",
          "name": "stdout",
          "text": [
            "{'brand': 'apple', 'model': '12 pro', 'year': 2021}\n"
          ]
        }
      ]
    },
    {
      "cell_type": "markdown",
      "source": [
        "**update dict**"
      ],
      "metadata": {
        "id": "KGt1-M_1TSrx"
      }
    },
    {
      "cell_type": "code",
      "source": [
        "thisdict = {\n",
        "  \"brand\": \"apple\",\n",
        "  \"model\": \"12 pro\",\n",
        "  \"year\": 2020\n",
        "}\n",
        "thisdict.update({\"year\": 2021})\n",
        "print(thisdict)"
      ],
      "metadata": {
        "colab": {
          "base_uri": "https://localhost:8080/"
        },
        "id": "0QMOzgV-TaCX",
        "outputId": "659db2f4-82b7-4bf7-cb3e-0a5f3dd6b9c7"
      },
      "execution_count": null,
      "outputs": [
        {
          "output_type": "stream",
          "name": "stdout",
          "text": [
            "{'brand': 'apple', 'model': '12 pro', 'year': 2021}\n"
          ]
        }
      ]
    },
    {
      "cell_type": "markdown",
      "source": [
        "**add items**"
      ],
      "metadata": {
        "id": "W_SofMjfURJ4"
      }
    },
    {
      "cell_type": "code",
      "source": [
        "thisdict =  {\n",
        "  \"brand\": \"apple\",\n",
        "  \"model\": \"12 pro\",\n",
        "  \"year\": 2020\n",
        "}\n",
        "thisdict[\"color\"] = \"red\"\n",
        "print(thisdict)"
      ],
      "metadata": {
        "colab": {
          "base_uri": "https://localhost:8080/"
        },
        "id": "qih-jXSZUTEH",
        "outputId": "32803ebb-7884-495f-8a09-2fd347165e63"
      },
      "execution_count": null,
      "outputs": [
        {
          "output_type": "stream",
          "name": "stdout",
          "text": [
            "{'brand': 'apple', 'model': '12 pro', 'year': 2020, 'color': 'red'}\n"
          ]
        }
      ]
    },
    {
      "cell_type": "markdown",
      "source": [
        "**update dict**"
      ],
      "metadata": {
        "id": "g-TyzC0iUkKt"
      }
    },
    {
      "cell_type": "code",
      "source": [
        "thisdict = {\n",
        "  \"brand\": \"apple\",\n",
        "  \"model\": \"12 pro\",\n",
        "  \"year\": 2020\n",
        "}\n",
        "thisdict.update({\"color\": \"red\"})\n",
        "print(thisdict)\n"
      ],
      "metadata": {
        "colab": {
          "base_uri": "https://localhost:8080/"
        },
        "id": "vGRUWtIoUnHv",
        "outputId": "2210e48e-c3db-47ee-c464-a8a93f01bf10"
      },
      "execution_count": null,
      "outputs": [
        {
          "output_type": "stream",
          "name": "stdout",
          "text": [
            "{'brand': 'apple', 'model': '12 pro', 'year': 2020, 'color': 'red'}\n"
          ]
        }
      ]
    },
    {
      "cell_type": "markdown",
      "source": [
        "**remove items**"
      ],
      "metadata": {
        "id": "WkoHL_KJU3nP"
      }
    },
    {
      "cell_type": "code",
      "source": [
        "thisdict =  {\n",
        "  \"brand\": \"apple\",\n",
        "  \"model\": \"12 pro\",\n",
        "  \"year\": 2020\n",
        "}\n",
        "thisdict.pop(\"model\")\n",
        "print(thisdict)"
      ],
      "metadata": {
        "colab": {
          "base_uri": "https://localhost:8080/"
        },
        "id": "VSV4caNFU7iA",
        "outputId": "f3126354-94ca-4c90-aee1-a1469dfecb29"
      },
      "execution_count": null,
      "outputs": [
        {
          "output_type": "stream",
          "name": "stdout",
          "text": [
            "{'brand': 'apple', 'year': 2020}\n"
          ]
        }
      ]
    },
    {
      "cell_type": "code",
      "source": [
        "thisdict =\t{\n",
        "  \"brand\": \"apple\",\n",
        "  \"model\": \"12 pro\",\n",
        "  \"year\": 2020\n",
        "}\n",
        "thisdict.popitem()\n",
        "print(thisdict)\n"
      ],
      "metadata": {
        "colab": {
          "base_uri": "https://localhost:8080/"
        },
        "id": "v_ReuGl1VMwI",
        "outputId": "302dd17a-22f6-490e-ae8c-1f32fb75925e"
      },
      "execution_count": null,
      "outputs": [
        {
          "output_type": "stream",
          "name": "stdout",
          "text": [
            "{'brand': 'apple', 'model': '12 pro'}\n"
          ]
        }
      ]
    },
    {
      "cell_type": "code",
      "source": [
        "thisdict =\t{\n",
        "  \"brand\": \"apple\",\n",
        "  \"model\": \"12 pro\",\n",
        "  \"year\": 2020\n",
        "}\n",
        "del thisdict[\"model\"]\n",
        "print(thisdict)\n"
      ],
      "metadata": {
        "colab": {
          "base_uri": "https://localhost:8080/"
        },
        "id": "2em0jVQUVYI-",
        "outputId": "2087be1a-5ac6-4eb2-9c38-dc42d92b0f76"
      },
      "execution_count": null,
      "outputs": [
        {
          "output_type": "stream",
          "name": "stdout",
          "text": [
            "{'brand': 'apple', 'year': 2020}\n"
          ]
        }
      ]
    },
    {
      "cell_type": "code",
      "source": [
        "thisdict =\t{\n",
        "  \"brand\": \"apple\",\n",
        "  \"model\": \"12 pr0\",\n",
        "  \"year\": 2020\n",
        "}\n",
        "thisdict.clear()\n",
        "print(thisdict)\n",
        "\n",
        "\n"
      ],
      "metadata": {
        "colab": {
          "base_uri": "https://localhost:8080/"
        },
        "id": "Xd5Jxu9aVd9Z",
        "outputId": "bde91c1f-7e2e-445f-f25d-606a0f3358a5"
      },
      "execution_count": null,
      "outputs": [
        {
          "output_type": "stream",
          "name": "stdout",
          "text": [
            "{}\n"
          ]
        }
      ]
    },
    {
      "cell_type": "markdown",
      "source": [
        "**loops**"
      ],
      "metadata": {
        "id": "DIdMeGruVzkE"
      }
    },
    {
      "cell_type": "code",
      "source": [
        "thisdict =\t{\n",
        "  \"brand\": \"apple\",\n",
        "  \"model\": \"12 pro\",\n",
        "  \"year\": 2020\n",
        "}\n",
        "for x in thisdict:\n",
        "  print(x)\n"
      ],
      "metadata": {
        "colab": {
          "base_uri": "https://localhost:8080/"
        },
        "id": "2RHw98awVqlf",
        "outputId": "598e2f73-47bf-4e73-c20a-19b96ed3ece1"
      },
      "execution_count": null,
      "outputs": [
        {
          "output_type": "stream",
          "name": "stdout",
          "text": [
            "brand\n",
            "model\n",
            "year\n"
          ]
        }
      ]
    },
    {
      "cell_type": "code",
      "source": [
        "thisdict =\t{\n",
        "  \"brand\": \"apple\",\n",
        "  \"model\": \"12 pro\",\n",
        "  \"year\": 2020\n",
        "}\n",
        "for x in thisdict:\n",
        "  print(thisdict[x])\n"
      ],
      "metadata": {
        "colab": {
          "base_uri": "https://localhost:8080/"
        },
        "id": "3Skeu-HWWW_K",
        "outputId": "60f134b8-926c-4ef3-a0de-1559509bac37"
      },
      "execution_count": null,
      "outputs": [
        {
          "output_type": "stream",
          "name": "stdout",
          "text": [
            "apple\n",
            "12 pro\n",
            "2020\n"
          ]
        }
      ]
    },
    {
      "cell_type": "code",
      "source": [
        "thisdict =  {\n",
        "  \"brand\": \"apple\",\n",
        "  \"model\": \"12 pro\",\n",
        "  \"year\": 2020\n",
        "}\n",
        "for x in thisdict.values():\n",
        "  print(x)"
      ],
      "metadata": {
        "colab": {
          "base_uri": "https://localhost:8080/"
        },
        "id": "lefzfnkCWdqm",
        "outputId": "0f7e3861-685c-4e18-f04a-f426589e8077"
      },
      "execution_count": null,
      "outputs": [
        {
          "output_type": "stream",
          "name": "stdout",
          "text": [
            "apple\n",
            "12 pro\n",
            "2020\n"
          ]
        }
      ]
    },
    {
      "cell_type": "code",
      "source": [
        "thisdict =  {\n",
        "  \"brand\": \"apple\",\n",
        "  \"model\": \"12 pro\",\n",
        "  \"year\": 2020\n",
        "}\n",
        "for x in thisdict.keys():\n",
        "  print(x)"
      ],
      "metadata": {
        "colab": {
          "base_uri": "https://localhost:8080/"
        },
        "id": "wk_IICtyW5T1",
        "outputId": "873b1074-5ee5-4144-b8e1-6e0db73aae28"
      },
      "execution_count": null,
      "outputs": [
        {
          "output_type": "stream",
          "name": "stdout",
          "text": [
            "brand\n",
            "model\n",
            "year\n"
          ]
        }
      ]
    },
    {
      "cell_type": "code",
      "source": [
        "thisdict =\t{\n",
        "  \"brand\": \"apple\",\n",
        "  \"model\": \"12 pro\",\n",
        "  \"year\": 2020\n",
        "}\n",
        "for x, y in thisdict.items():\n",
        "  print(x, y)\n"
      ],
      "metadata": {
        "colab": {
          "base_uri": "https://localhost:8080/"
        },
        "id": "O0d6GVrXXC3i",
        "outputId": "f0beff67-f9ae-4cfd-dffa-d4aedd5b8137"
      },
      "execution_count": null,
      "outputs": [
        {
          "output_type": "stream",
          "name": "stdout",
          "text": [
            "brand apple\n",
            "model 12 pro\n",
            "year 2020\n"
          ]
        }
      ]
    },
    {
      "cell_type": "markdown",
      "source": [
        "**copy dictionary**"
      ],
      "metadata": {
        "id": "H6dfmsO2XWPt"
      }
    },
    {
      "cell_type": "code",
      "source": [
        "thisdict = {\n",
        "  \"brand\": \"apple\",\n",
        "  \"model\": \"12 pro\",\n",
        "  \"year\": 2020\n",
        "}\n",
        "mydict = thisdict.copy()\n",
        "print(mydict)"
      ],
      "metadata": {
        "colab": {
          "base_uri": "https://localhost:8080/"
        },
        "id": "TbYGsC6FXanX",
        "outputId": "9a10d0eb-5009-44ec-e6f7-6d2de01fefbc"
      },
      "execution_count": null,
      "outputs": [
        {
          "output_type": "stream",
          "name": "stdout",
          "text": [
            "{'brand': 'apple', 'model': '12 pro', 'year': 2020}\n"
          ]
        }
      ]
    },
    {
      "cell_type": "code",
      "source": [
        "thisdict = {\n",
        "  \"brand\": \"apple\",\n",
        "  \"model\": \"12 pro\",\n",
        "  \"year\": 2020\n",
        "}\n",
        "mydict = dict(thisdict)\n",
        "print(mydict)\n"
      ],
      "metadata": {
        "colab": {
          "base_uri": "https://localhost:8080/"
        },
        "id": "y9wcwgu-Xkdi",
        "outputId": "242f544b-613e-40bd-8334-243f26ed6c1f"
      },
      "execution_count": null,
      "outputs": [
        {
          "output_type": "stream",
          "name": "stdout",
          "text": [
            "{'brand': 'apple', 'model': '12 pro', 'year': 2020}\n"
          ]
        }
      ]
    },
    {
      "cell_type": "markdown",
      "source": [
        "**nested dictionary**"
      ],
      "metadata": {
        "id": "ce8ijJ0hXvIR"
      }
    },
    {
      "cell_type": "code",
      "source": [
        "myfamily = {\n",
        "  \"child1\" : {\n",
        "    \"name\" : \"akanksha\",\n",
        "    \"year\" : 2000\n",
        "  },\n",
        "  \"child2\" : {\n",
        "    \"name\" : \"akshaya\",\n",
        "    \"year\" : 2004\n",
        "  },\n",
        "  \"child3\" : {\n",
        "    \"name\" : \"akash\",\n",
        "    \"year\" : 2004\n",
        "  }\n",
        "}\n",
        "print(myfamily)\n"
      ],
      "metadata": {
        "colab": {
          "base_uri": "https://localhost:8080/"
        },
        "id": "UoWfvHtFXy2J",
        "outputId": "827cf0af-e2da-45fc-9f4d-25f0a6ed348f"
      },
      "execution_count": null,
      "outputs": [
        {
          "output_type": "stream",
          "name": "stdout",
          "text": [
            "{'child1': {'name': 'akanksha', 'year': 2000}, 'child2': {'name': 'akshaya', 'year': 2004}, 'child3': {'name': 'akash', 'year': 2004}}\n"
          ]
        }
      ]
    },
    {
      "cell_type": "code",
      "source": [
        "child1 = {\n",
        "  \"name\" : \"akanksha\",\n",
        "  \"year\" : 2000\n",
        "}\n",
        "child2 = {\n",
        "  \"name\" : \"akshaya\",\n",
        "  \"year\" : 2004\n",
        "}\n",
        "child3 = {\n",
        "  \"name\" : \"akash\",\n",
        "  \"year\" : 2004\n",
        "}\n",
        "myfamily = {\n",
        "  \"child1\" : child1,\n",
        "  \"child2\" : child2,\n",
        "  \"child3\" : child3\n",
        "}\n",
        "print(myfamily)\n"
      ],
      "metadata": {
        "colab": {
          "base_uri": "https://localhost:8080/"
        },
        "id": "rm2XGr1rX_42",
        "outputId": "b5454058-f776-4f68-e9c8-183eb6d7bea4"
      },
      "execution_count": null,
      "outputs": [
        {
          "output_type": "stream",
          "name": "stdout",
          "text": [
            "{'child1': {'name': 'akanksha', 'year': 2000}, 'child2': {'name': 'akshaya', 'year': 2004}, 'child3': {'name': 'akash', 'year': 2004}}\n"
          ]
        }
      ]
    }
  ]
}