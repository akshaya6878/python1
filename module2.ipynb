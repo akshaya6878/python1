{
  "nbformat": 4,
  "nbformat_minor": 0,
  "metadata": {
    "colab": {
      "name": "module2.ipynb",
      "provenance": [],
      "collapsed_sections": [],
      "authorship_tag": "ABX9TyPG3kgZUV8D/Lf3ZNn6M6mb",
      "include_colab_link": true
    },
    "kernelspec": {
      "name": "python3",
      "display_name": "Python 3"
    },
    "language_info": {
      "name": "python"
    }
  },
  "cells": [
    {
      "cell_type": "markdown",
      "metadata": {
        "id": "view-in-github",
        "colab_type": "text"
      },
      "source": [
        "<a href=\"https://colab.research.google.com/github/akshaya6878/python1/blob/main/module2.ipynb\" target=\"_parent\"><img src=\"https://colab.research.google.com/assets/colab-badge.svg\" alt=\"Open In Colab\"/></a>"
      ]
    },
    {
      "cell_type": "markdown",
      "source": [
        "**Create a function which accepts two inputs from the user and compute n\n",
        "Cr**\n"
      ],
      "metadata": {
        "id": "UoItD-2mr2js"
      }
    },
    {
      "cell_type": "code",
      "execution_count": null,
      "metadata": {
        "colab": {
          "base_uri": "https://localhost:8080/"
        },
        "id": "UzmsgVyrrC_h",
        "outputId": "ecec9979-915c-47a1-fb50-ca6f1b79f0e8"
      },
      "outputs": [
        {
          "output_type": "stream",
          "name": "stdout",
          "text": [
            "enter value of n6\n",
            "enter value of r3\n",
            "20\n"
          ]
        }
      ],
      "source": [
        "def nCr(n, r):\n",
        "  return (fact(n)/(fact(r)*fact(n-r)))\n",
        "n=int(input(\"enter value of n\"))\n",
        "r=int(input(\"enter value of r\"))\n",
        "def fact(n):\n",
        "   res=1\n",
        "   for i in range(2,n+1):\n",
        "      res=res*i\n",
        "   return res\n",
        "print(int(nCr(n, r)))"
      ]
    },
    {
      "cell_type": "markdown",
      "source": [
        "**Program to print a specified list after removing the 0th, 4th and 5th elements.\n",
        "Sample List : ['Red', 'Green', 'White', 'Black', 'Pink', 'Yellow']\n",
        "Expected Output : ['Green', 'White', 'Black']**\n"
      ],
      "metadata": {
        "id": "_qmEWHJuvo7N"
      }
    },
    {
      "cell_type": "code",
      "source": [
        "list =['Red', 'Green', 'White', 'Black', 'Pink', 'Yellow']\n",
        "unwanted_list=[\"Red\",\"Pink\",\"Yellow\"]\n",
        "list=[x for x in list if x not in unwanted_list]\n",
        "print(list)"
      ],
      "metadata": {
        "id": "Iq759XrnvsBL",
        "colab": {
          "base_uri": "https://localhost:8080/"
        },
        "outputId": "d8822172-8281-462f-c04e-6a889e9da70d"
      },
      "execution_count": null,
      "outputs": [
        {
          "output_type": "stream",
          "name": "stdout",
          "text": [
            "['Green', 'White', 'Black']\n"
          ]
        }
      ]
    },
    {
      "cell_type": "markdown",
      "source": [
        "**Program to get the difference between the two lists**"
      ],
      "metadata": {
        "id": "uVaM73C55Go7"
      }
    },
    {
      "cell_type": "code",
      "source": [
        "colours=[\"red\",\"green\",\"white\",\"orange\"]\n",
        "y=set(colours)\n",
        "fruits=[\"orange\",\"apple\",\"cherry\",\"mango\"]\n",
        "z=set(fruits)\n",
        "a=y.difference(z)\n",
        "diif=list(a)\n",
        "print(diff)\n"
      ],
      "metadata": {
        "colab": {
          "base_uri": "https://localhost:8080/",
          "height": 217
        },
        "id": "mxkmoOOv5ITI",
        "outputId": "e3b8fcd2-4d34-4a60-d470-ab08d59035ed"
      },
      "execution_count": 13,
      "outputs": [
        {
          "output_type": "error",
          "ename": "TypeError",
          "evalue": "ignored",
          "traceback": [
            "\u001b[0;31m---------------------------------------------------------------------------\u001b[0m",
            "\u001b[0;31mTypeError\u001b[0m                                 Traceback (most recent call last)",
            "\u001b[0;32m<ipython-input-13-bbf42623a8e3>\u001b[0m in \u001b[0;36m<module>\u001b[0;34m()\u001b[0m\n\u001b[1;32m      4\u001b[0m \u001b[0mz\u001b[0m\u001b[0;34m=\u001b[0m\u001b[0mset\u001b[0m\u001b[0;34m(\u001b[0m\u001b[0mfruits\u001b[0m\u001b[0;34m)\u001b[0m\u001b[0;34m\u001b[0m\u001b[0;34m\u001b[0m\u001b[0m\n\u001b[1;32m      5\u001b[0m \u001b[0ma\u001b[0m\u001b[0;34m=\u001b[0m\u001b[0my\u001b[0m\u001b[0;34m.\u001b[0m\u001b[0mdifference\u001b[0m\u001b[0;34m(\u001b[0m\u001b[0mz\u001b[0m\u001b[0;34m)\u001b[0m\u001b[0;34m\u001b[0m\u001b[0;34m\u001b[0m\u001b[0m\n\u001b[0;32m----> 6\u001b[0;31m \u001b[0mdiif\u001b[0m\u001b[0;34m=\u001b[0m\u001b[0mlist\u001b[0m\u001b[0;34m(\u001b[0m\u001b[0ma\u001b[0m\u001b[0;34m)\u001b[0m\u001b[0;34m\u001b[0m\u001b[0;34m\u001b[0m\u001b[0m\n\u001b[0m\u001b[1;32m      7\u001b[0m \u001b[0mprint\u001b[0m\u001b[0;34m(\u001b[0m\u001b[0mdiff\u001b[0m\u001b[0;34m)\u001b[0m\u001b[0;34m\u001b[0m\u001b[0;34m\u001b[0m\u001b[0m\n",
            "\u001b[0;31mTypeError\u001b[0m: 'list' object is not callable"
          ]
        }
      ]
    },
    {
      "cell_type": "markdown",
      "source": [
        "**x Program to find the second smallest number and second largest number in a list.**"
      ],
      "metadata": {
        "id": "Colu3Ph29z-M"
      }
    },
    {
      "cell_type": "code",
      "source": [
        "list=[4,26,73,92,1,0]\n",
        "length=len(list)\n",
        "list.sort()\n",
        "print(\"second largest\",list[length-2])\n",
        "print(\"second smallest\",list[1])"
      ],
      "metadata": {
        "colab": {
          "base_uri": "https://localhost:8080/"
        },
        "id": "F2m5j-X77j2M",
        "outputId": "49d0c9f8-7481-4f6c-aea5-54029c11107b"
      },
      "execution_count": null,
      "outputs": [
        {
          "output_type": "stream",
          "name": "stdout",
          "text": [
            "second largest 73\n",
            "second smallest 1\n"
          ]
        }
      ]
    },
    {
      "cell_type": "markdown",
      "source": [
        "**x Given a list of numbers of list, write a Python program to create a list of tuples\n",
        "having first element as the number and second element as the square of the \n",
        "number**"
      ],
      "metadata": {
        "id": "4u-Rjf9jBaoD"
      }
    },
    {
      "cell_type": "code",
      "source": [
        "list = [15, 20, 25, 30, 35, 40]\n",
        "print(\"list \")\n",
        "print(list)\n",
        "print(\"Tuple\")\n",
        "result = [(val, pow(val, 2)) for val in list]\n",
        "print(result)"
      ],
      "metadata": {
        "id": "Y9giQqDqBh-g",
        "colab": {
          "base_uri": "https://localhost:8080/"
        },
        "outputId": "cab2e1d2-f444-4793-c6db-136997f378cb"
      },
      "execution_count": 2,
      "outputs": [
        {
          "output_type": "stream",
          "name": "stdout",
          "text": [
            "list \n",
            "[15, 20, 25, 30, 35, 40]\n",
            "Tuple\n",
            "[(15, 225), (20, 400), (25, 625), (30, 900), (35, 1225), (40, 1600)]\n"
          ]
        }
      ]
    },
    {
      "cell_type": "markdown",
      "source": [
        "**Given list of tuples, remove all the tuples with length K.\n",
        "Input : test_list = [(4, 5), (4, ), (8, 6, 7), (1, ), (3, 4, 6, 7)], K = 2**"
      ],
      "metadata": {
        "id": "UdTJ1qkzCSoY"
      }
    },
    {
      "cell_type": "code",
      "source": [
        "list = [(4, 5), (4, ), (8, 6, 7), (1, ), (3, 4, 6, 7)]\n",
        "print(\"list \" + str(list))\n",
        "K = 2\n",
        "res = [x for x in list if len(x) != z]\n",
        "print(\"New list \" + str(res))"
      ],
      "metadata": {
        "id": "rlPw4eTCG7vn",
        "colab": {
          "base_uri": "https://localhost:8080/"
        },
        "outputId": "ad00e9ef-f442-4101-92a0-1930e5195991"
      },
      "execution_count": 3,
      "outputs": [
        {
          "output_type": "stream",
          "name": "stdout",
          "text": [
            "list [(4, 5), (4,), (8, 6, 7), (1,), (3, 4, 6, 7)]\n",
            "New list [(4, 5), (4,), (8, 6, 7), (1,), (3, 4, 6, 7)]\n"
          ]
        }
      ]
    },
    {
      "cell_type": "markdown",
      "source": [
        "**Program to generate and print a dictionary that contains a number (between 1 \n",
        "and n) in the form (x, x*x). \n",
        "Sample Input: (n=5) : \n",
        "Expected Output : {1: 1, 2: 4, 3: 9, 4: 16, 5: 25}**"
      ],
      "metadata": {
        "id": "7V2Eij02AX87"
      }
    },
    {
      "cell_type": "code",
      "source": [
        "n=int(input(\"input any number \"))\n",
        "d = dict()\n",
        "for x in range(1,n+1):\n",
        "    d[x]=x*x\n",
        "\n",
        "print(d) "
      ],
      "metadata": {
        "id": "PukH67vM_-qR",
        "outputId": "4fa8103a-971d-40b6-8120-2b8a8ab39197",
        "colab": {
          "base_uri": "https://localhost:8080/"
        }
      },
      "execution_count": 4,
      "outputs": [
        {
          "output_type": "stream",
          "name": "stdout",
          "text": [
            "input any number 4\n",
            "{1: 1, 2: 4, 3: 9, 4: 16}\n"
          ]
        }
      ]
    },
    {
      "cell_type": "markdown",
      "source": [
        "**Program for Counting occurrence of a certain element in a string, getting indexes that \n",
        "have matching elements.For ex -.In Rabbit count how many times b has occurred . \n",
        "Example-I have to go to a doctor and get myself checked. Count the number of \n",
        "occXrrences of**"
      ],
      "metadata": {
        "id": "D9L_DWVFHNTP"
      }
    },
    {
      "cell_type": "code",
      "source": [
        "def count(l, m) :\n",
        "    res = 0\n",
        "    for i in range(len(l)) :\n",
        "        if (l[i] ==m ):\n",
        "            res = res + 1\n",
        "    return res\n",
        "string= \"Rabbit\"\n",
        "m= 'b'\n",
        "print(count(string, m))"
      ],
      "metadata": {
        "id": "xXnjop1PG2S3",
        "outputId": "15b6023c-b94e-4229-841d-466e75001b43",
        "colab": {
          "base_uri": "https://localhost:8080/"
        }
      },
      "execution_count": 10,
      "outputs": [
        {
          "output_type": "stream",
          "name": "stdout",
          "text": [
            "2\n"
          ]
        }
      ]
    },
    {
      "cell_type": "markdown",
      "source": [
        "**Given a list of numbers of list, write a Python program to create a list of tuples \n",
        "having first element as the number and second element as the square of the \n",
        "number.**"
      ],
      "metadata": {
        "id": "ZvlNITx3GOsO"
      }
    },
    {
      "cell_type": "code",
      "source": [
        "list = [5, 6, 7, 8, 9, 10]\n",
        "print(\"list\")\n",
        "print(list)\n",
        "print(\"Tuple\")\n",
        "result = [(val, pow(val, 2)) for val in list]\n",
        "print(result)"
      ],
      "metadata": {
        "id": "Yn22zaUYF_6C",
        "outputId": "0fe19936-3db6-4df0-f283-76edd0a3c761",
        "colab": {
          "base_uri": "https://localhost:8080/"
        }
      },
      "execution_count": 11,
      "outputs": [
        {
          "output_type": "stream",
          "name": "stdout",
          "text": [
            "list\n",
            "[5, 6, 7, 8, 9, 10]\n",
            "Tuple\n",
            "[(5, 25), (6, 36), (7, 49), (8, 64), (9, 81), (10, 100)]\n"
          ]
        }
      ]
    },
    {
      "cell_type": "markdown",
      "source": [
        "**Program for replacing one substring by another For example - Rabbit - Replace bb by cc**"
      ],
      "metadata": {
        "id": "MiHy43DAFIrK"
      }
    },
    {
      "cell_type": "code",
      "source": [
        "def replace(input, pattern, replaceWith):\n",
        "    return input.replace(pattern, replaceWith)\n",
        "if  __name__ == \"__main__\":\n",
        "    input   = 'Rabbit'\n",
        "    pattern = 'bb'\n",
        "    replaceWith = 'cc'\n",
        "    print (replace(input,pattern,replaceWith))"
      ],
      "metadata": {
        "id": "dj3qSOOgFEBe",
        "outputId": "e2b3585e-ef30-4f8f-f397-611dcbb943c3",
        "colab": {
          "base_uri": "https://localhost:8080/"
        }
      },
      "execution_count": 12,
      "outputs": [
        {
          "output_type": "stream",
          "name": "stdout",
          "text": [
            "Raccit\n"
          ]
        }
      ]
    },
    {
      "cell_type": "markdown",
      "source": [
        "**Program to Acronym generator for any user input (ex-input is Random memory access \n",
        "then output should be RMA).Example - Random number (RN)**"
      ],
      "metadata": {
        "id": "UcNBTo6JEfX0"
      }
    },
    {
      "cell_type": "code",
      "source": [
        "input = input(\"Enter a phrase: \")\n",
        "phrase = (input.replace('of', '')).split()\n",
        "a = \"\"\n",
        "for word in phrase:\n",
        "    a = a + word[0].upper()\n",
        "print(f'Acronym of {input} is {a}')"
      ],
      "metadata": {
        "id": "WujnJ0xRES7b",
        "outputId": "6b40b32e-431a-4d5e-f49a-e70ef0af1aad",
        "colab": {
          "base_uri": "https://localhost:8080/"
        }
      },
      "execution_count": null,
      "outputs": [
        {
          "output_type": "stream",
          "name": "stdout",
          "text": [
            "Enter a phrase: My Name Is Akshaya\n",
            "Acronym of My Name Is Akshaya is MNIA\n"
          ]
        }
      ]
    },
    {
      "cell_type": "markdown",
      "source": [
        "**Python function that accepts a string and calculates the number of uppercase  letters and lowercase letters.**"
      ],
      "metadata": {
        "id": "hFEP6YnFDlyz"
      }
    },
    {
      "cell_type": "code",
      "source": [
        "def LIST(s):\n",
        "    x={\"UPPER CASE\":0, \"LOWER CASE\":0}\n",
        "    for c in s:\n",
        "        if c.isupper():\n",
        "           x[\"UPPER CASE\"]+=1\n",
        "        elif c.islower():\n",
        "           x[\"LOWER CASE\"]+=1\n",
        "        else:\n",
        "           pass\n",
        "    print (\"INPUT : \", s)\n",
        "    print (\"UPPER CASE : \", x[\"UPPER CASE\"])\n",
        "    print (\"LOWER CASE : \", x[\"LOWER CASE\"])\n",
        "LIST('My Name Is Akshaya')"
      ],
      "metadata": {
        "id": "dEEwS4cnDiwH",
        "outputId": "f5fc6462-7ab2-41e5-b40b-49727aefe4b5",
        "colab": {
          "base_uri": "https://localhost:8080/"
        }
      },
      "execution_count": null,
      "outputs": [
        {
          "output_type": "stream",
          "name": "stdout",
          "text": [
            "INPUT :  My Name Is Akshaya\n",
            "UPPER CASE :  4\n",
            "LOWER CASE :  11\n"
          ]
        }
      ]
    },
    {
      "cell_type": "markdown",
      "source": [
        "**Program to count the number of strings where the string length is 2 or more and \n",
        "the first and last character are same from a given list of strings \n",
        "x Sample List : ['abc', 'xyz', 'aba', '1221'] Expected Result : 2**"
      ],
      "metadata": {
        "id": "cY-6Rnh_CyzG"
      }
    },
    {
      "cell_type": "code",
      "source": [
        "def words(words):\n",
        "  ctr = 0\n",
        "\n",
        "  for word in words:\n",
        "    if len(word) > 1 and word[0] == word[-1]:\n",
        "      ctr += 1\n",
        "  return ctr\n",
        "\n",
        "print(words(['abc', 'xyz', 'aba', '1221']))\n"
      ],
      "metadata": {
        "id": "2mnzotcMCwYz",
        "outputId": "fafd893a-ee7b-4e99-e420-d09cdad46538",
        "colab": {
          "base_uri": "https://localhost:8080/"
        }
      },
      "execution_count": null,
      "outputs": [
        {
          "output_type": "stream",
          "name": "stdout",
          "text": [
            "2\n"
          ]
        }
      ]
    },
    {
      "cell_type": "markdown",
      "source": [
        "**Program to get the maximum and minimum value in a dictionary.**"
      ],
      "metadata": {
        "id": "wJvgwfkfBoNv"
      }
    },
    {
      "cell_type": "code",
      "source": [
        "dictionary={'a':34,'b':26,'c':22}\n",
        "maximum=max(dictionary, key=dictionary.get)\n",
        "minimum=min(dictionary, key=dictionary.get)\n",
        "print(dictionary.get(maximum))\n",
        "print(dictionary.get(minimum))"
      ],
      "metadata": {
        "id": "I2Mks664Bi5m",
        "outputId": "e482cf79-666c-49b3-fb84-53c4d57c6160",
        "colab": {
          "base_uri": "https://localhost:8080/"
        }
      },
      "execution_count": null,
      "outputs": [
        {
          "output_type": "stream",
          "name": "stdout",
          "text": [
            "34\n",
            "22\n"
          ]
        }
      ]
    },
    {
      "cell_type": "markdown",
      "source": [
        "**Remove a key from a dictionary.**"
      ],
      "metadata": {
        "id": "TnljnzE1A7Aa"
      }
    },
    {
      "cell_type": "code",
      "source": [
        "dictionary = {'Akshaya':1,'Akanksha':2,'Akash':3}\n",
        "print(dictionary)\n",
        "if 'Akshaya' in dictionary: \n",
        "    del dictionary['Akshaya']\n",
        "print(dictionary)"
      ],
      "metadata": {
        "id": "OxKCXjqxA2KD",
        "outputId": "6573cf27-56c0-443a-cef3-7030470f9de1",
        "colab": {
          "base_uri": "https://localhost:8080/"
        }
      },
      "execution_count": null,
      "outputs": [
        {
          "output_type": "stream",
          "name": "stdout",
          "text": [
            "{'Akshaya': 1, 'Akanksha': 2, 'Akash': 3}\n",
            "{'Akanksha': 2, 'Akash': 3}\n"
          ]
        }
      ]
    },
    {
      "cell_type": "markdown",
      "source": [
        "**Recursive function to compute GCD of 2 numbers**"
      ],
      "metadata": {
        "id": "tKu0tSb0BEzM"
      }
    },
    {
      "cell_type": "code",
      "source": [
        "def GCD(a,b):\n",
        "    r=a%b\n",
        "    if(r==0):\n",
        "        return b\n",
        "    else:\n",
        "        return GCD(b,r)\n",
        "        p= int(input(\"Enter number\"))\n",
        "        q= int(input(\"Enter number \"))\n",
        "        print(\"GCD is\", GCD(p,q))"
      ],
      "metadata": {
        "id": "uGw1YOL0BIMC"
      },
      "execution_count": 32,
      "outputs": []
    },
    {
      "cell_type": "markdown",
      "source": [
        "**Recursive function to find product of two numbers**"
      ],
      "metadata": {
        "id": "W9MnKszmCl6n"
      }
    },
    {
      "cell_type": "code",
      "source": [
        "def product(num1,num2):\n",
        "    if(num1<num2):\n",
        "        return product(num2,num1)\n",
        "    elif(num2!=0):\n",
        "         return(num1+product(num1,num2-1))\n",
        "    else:\n",
        "         return 0\n",
        "         num1=int(input(\"Enter first number: \"))\n",
        "         num2=int(input(\"Enter second number: \"))\n",
        "         print(\"product is \",product(num1,num2))"
      ],
      "metadata": {
        "id": "u2kConz1Cr-x"
      },
      "execution_count": 31,
      "outputs": []
    },
    {
      "cell_type": "markdown",
      "source": [
        "**Recursive function to generate Fibonacci series**"
      ],
      "metadata": {
        "id": "QDdV--VCEkN4"
      }
    },
    {
      "cell_type": "code",
      "source": [
        "def fibonacci(n):\n",
        "    if(n <= 1):\n",
        "        return n\n",
        "    else:\n",
        "        return(fibonacci(n-1) + fibonacci(n-2))\n",
        "    n = int(input(\"Enter number of terms:\"))\n",
        "print(\"Fibonacci sequence:\")\n",
        "for i in range(n):\n",
        "    print(fibonacci(i))"
      ],
      "metadata": {
        "colab": {
          "base_uri": "https://localhost:8080/"
        },
        "id": "ECNRaWDWDX3J",
        "outputId": "50cf2b70-5f76-4a26-f24f-2669421fd6d6"
      },
      "execution_count": 53,
      "outputs": [
        {
          "output_type": "stream",
          "name": "stdout",
          "text": [
            "Fibonacci sequence:\n",
            "0\n",
            "1\n",
            "1\n",
            "2\n"
          ]
        }
      ]
    }
  ]
}