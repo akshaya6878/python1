{
  "nbformat": 4,
  "nbformat_minor": 0,
  "metadata": {
    "colab": {
      "name": "sets.ipynb",
      "provenance": [],
      "collapsed_sections": [],
      "authorship_tag": "ABX9TyMs9mG0z1rV65JNWErRKhGv",
      "include_colab_link": true
    },
    "kernelspec": {
      "name": "python3",
      "display_name": "Python 3"
    },
    "language_info": {
      "name": "python"
    }
  },
  "cells": [
    {
      "cell_type": "markdown",
      "metadata": {
        "id": "view-in-github",
        "colab_type": "text"
      },
      "source": [
        "<a href=\"https://colab.research.google.com/github/akshaya6878/python1/blob/main/sets.ipynb\" target=\"_parent\"><img src=\"https://colab.research.google.com/assets/colab-badge.svg\" alt=\"Open In Colab\"/></a>"
      ]
    },
    {
      "cell_type": "markdown",
      "source": [
        "**sets**"
      ],
      "metadata": {
        "id": "9W5BVWGTMI98"
      }
    },
    {
      "cell_type": "code",
      "source": [
        "colours={\"pink\",\"blue\",\"black\"}\n",
        "print(colours)"
      ],
      "metadata": {
        "colab": {
          "base_uri": "https://localhost:8080/"
        },
        "id": "AK27qUwzMMfZ",
        "outputId": "b0c92063-fbd2-4abd-e0a7-a3277114732b"
      },
      "execution_count": null,
      "outputs": [
        {
          "output_type": "stream",
          "name": "stdout",
          "text": [
            "{'pink', 'black', 'blue'}\n"
          ]
        }
      ]
    },
    {
      "cell_type": "markdown",
      "source": [
        "**duplicate items**"
      ],
      "metadata": {
        "id": "e49DyZG9Sdrb"
      }
    },
    {
      "cell_type": "code",
      "source": [
        "colours={\"pink\",\"black\",\"blue\",\"pink\"}\n",
        "print(colours)"
      ],
      "metadata": {
        "colab": {
          "base_uri": "https://localhost:8080/"
        },
        "id": "5CDOfBVvM2no",
        "outputId": "002736f7-70a9-47ab-8d7d-7c768d15fb3e"
      },
      "execution_count": null,
      "outputs": [
        {
          "output_type": "stream",
          "name": "stdout",
          "text": [
            "{'pink', 'black', 'blue'}\n"
          ]
        }
      ]
    },
    {
      "cell_type": "markdown",
      "source": [
        "**length**\n"
      ],
      "metadata": {
        "id": "lp59lNL0SkDq"
      }
    },
    {
      "cell_type": "code",
      "source": [
        "colours={\"pink\",\"blue\",\"black\"}\n",
        "print(len(colours))"
      ],
      "metadata": {
        "colab": {
          "base_uri": "https://localhost:8080/"
        },
        "id": "sNxI2MH0OX9C",
        "outputId": "87e34850-1f4e-46f2-b9c9-5f65c391600b"
      },
      "execution_count": null,
      "outputs": [
        {
          "output_type": "stream",
          "name": "stdout",
          "text": [
            "3\n"
          ]
        }
      ]
    },
    {
      "cell_type": "markdown",
      "source": [
        "**type**"
      ],
      "metadata": {
        "id": "7zG1DTsZSoZy"
      }
    },
    {
      "cell_type": "code",
      "source": [
        "colours={\"pink\",\"blue\",\"black\"}\n",
        "print(type(colours))"
      ],
      "metadata": {
        "colab": {
          "base_uri": "https://localhost:8080/"
        },
        "id": "WtTb-jjvOmip",
        "outputId": "d78aa830-ebfa-4554-9235-1f7c80fcc0c7"
      },
      "execution_count": null,
      "outputs": [
        {
          "output_type": "stream",
          "name": "stdout",
          "text": [
            "<class 'set'>\n"
          ]
        }
      ]
    },
    {
      "cell_type": "markdown",
      "source": [
        "**acess items**"
      ],
      "metadata": {
        "id": "215TL9ujSsRY"
      }
    },
    {
      "cell_type": "code",
      "source": [
        "colours={\"pink\",\"blue\",\"black\"}\n",
        "for x in colours:\n",
        "  print(x)\n"
      ],
      "metadata": {
        "colab": {
          "base_uri": "https://localhost:8080/"
        },
        "id": "CWLh2NBwOuOT",
        "outputId": "d348a2e2-a4b1-41d1-cf9e-0b78b7e13b4d"
      },
      "execution_count": null,
      "outputs": [
        {
          "output_type": "stream",
          "name": "stdout",
          "text": [
            "pink\n",
            "black\n",
            "blue\n"
          ]
        }
      ]
    },
    {
      "cell_type": "code",
      "source": [
        "colours={\"pink\",\"blue\",\"black\"}\n",
        "print(\"pink\" in colours)"
      ],
      "metadata": {
        "colab": {
          "base_uri": "https://localhost:8080/"
        },
        "id": "jEfKZLFePKqS",
        "outputId": "9cb0ee27-037a-483b-b3cc-fff771f19ea1"
      },
      "execution_count": null,
      "outputs": [
        {
          "output_type": "stream",
          "name": "stdout",
          "text": [
            "True\n"
          ]
        }
      ]
    },
    {
      "cell_type": "markdown",
      "source": [
        "**add items**"
      ],
      "metadata": {
        "id": "L4alZuLASES4"
      }
    },
    {
      "cell_type": "code",
      "source": [
        "colours={\"pink\",\"blue\",\"black\"}\n",
        "colours.add(\"yellow\")\n",
        "print(colours)"
      ],
      "metadata": {
        "colab": {
          "base_uri": "https://localhost:8080/"
        },
        "id": "qkruh0CWSJGO",
        "outputId": "f491d5e1-f085-4cce-b663-dc5102746eb7"
      },
      "execution_count": null,
      "outputs": [
        {
          "output_type": "stream",
          "name": "stdout",
          "text": [
            "{'yellow', 'pink', 'black', 'blue'}\n"
          ]
        }
      ]
    },
    {
      "cell_type": "markdown",
      "source": [
        "**add set**"
      ],
      "metadata": {
        "id": "bfrbSlziS-gx"
      }
    },
    {
      "cell_type": "code",
      "source": [
        "colours={\"pink\",\"blue\",\"black\"}\n",
        "fruits={\"apple\",\"banana\",\"cherry\"}\n",
        "colours.update(fruits)\n",
        "print(colours)"
      ],
      "metadata": {
        "colab": {
          "base_uri": "https://localhost:8080/"
        },
        "id": "3fZntF3vTAlw",
        "outputId": "9aa8730e-4b6b-40ab-df2f-3ca28b5f8291"
      },
      "execution_count": null,
      "outputs": [
        {
          "output_type": "stream",
          "name": "stdout",
          "text": [
            "{'apple', 'cherry', 'pink', 'blue', 'black', 'banana'}\n"
          ]
        }
      ]
    },
    {
      "cell_type": "markdown",
      "source": [
        "**Add Any Iterable**\n"
      ],
      "metadata": {
        "id": "Qx2PjzoxTnHZ"
      }
    },
    {
      "cell_type": "code",
      "source": [
        "colours={\"pink\",\"blue\",\"black\"}\n",
        "fruits=[\"apples\",\"banana\"]\n",
        "colours.update(fruits)\n",
        "print(colours)"
      ],
      "metadata": {
        "colab": {
          "base_uri": "https://localhost:8080/"
        },
        "id": "Bi0yleveTp8F",
        "outputId": "952320cb-e1b7-4fc3-dcb5-6cb61c1b327a"
      },
      "execution_count": null,
      "outputs": [
        {
          "output_type": "stream",
          "name": "stdout",
          "text": [
            "{'black', 'pink', 'blue', 'banana', 'apples'}\n"
          ]
        }
      ]
    },
    {
      "cell_type": "markdown",
      "source": [
        "**remove sets**"
      ],
      "metadata": {
        "id": "1jHwBgqkUmvB"
      }
    },
    {
      "cell_type": "code",
      "source": [
        "colours={\"pink\",\"blue\",\"black\"}\n",
        "colours.remove(\"pink\")\n",
        "print(colours)"
      ],
      "metadata": {
        "colab": {
          "base_uri": "https://localhost:8080/"
        },
        "id": "JmCa4zFtUo3W",
        "outputId": "56ee233e-b0c6-4fc5-dabe-1bcdf24ba65a"
      },
      "execution_count": null,
      "outputs": [
        {
          "output_type": "stream",
          "name": "stdout",
          "text": [
            "{'black', 'blue'}\n"
          ]
        }
      ]
    },
    {
      "cell_type": "code",
      "source": [
        "colours={\"pink\",\"blue\",\"black\"}\n",
        "colours.discard(\"pink\")\n",
        "print(colours)"
      ],
      "metadata": {
        "colab": {
          "base_uri": "https://localhost:8080/"
        },
        "id": "PY1KnqdyU8vC",
        "outputId": "0327e358-0215-466b-973a-a5a64fc098e5"
      },
      "execution_count": null,
      "outputs": [
        {
          "output_type": "stream",
          "name": "stdout",
          "text": [
            "{'black', 'blue'}\n"
          ]
        }
      ]
    },
    {
      "cell_type": "code",
      "source": [
        "colours={\"pink\",\"blue\",\"black\"}\n",
        "x=colours.pop()\n",
        "print(x)\n",
        "print(colours)"
      ],
      "metadata": {
        "colab": {
          "base_uri": "https://localhost:8080/"
        },
        "id": "5NZDBdrlVZ2E",
        "outputId": "8e965634-2790-41a8-9082-87c80aed1d91"
      },
      "execution_count": null,
      "outputs": [
        {
          "output_type": "stream",
          "name": "stdout",
          "text": [
            "pink\n",
            "{'black', 'blue'}\n"
          ]
        }
      ]
    },
    {
      "cell_type": "code",
      "source": [
        "colours={\"pink\",\"blue\",\"black\"}\n",
        "colours.clear()\n",
        "print(colours)"
      ],
      "metadata": {
        "colab": {
          "base_uri": "https://localhost:8080/"
        },
        "id": "izH7NFo7VuAf",
        "outputId": "e35a1ac1-1281-4de0-daf3-7486c974fb33"
      },
      "execution_count": null,
      "outputs": [
        {
          "output_type": "stream",
          "name": "stdout",
          "text": [
            "set()\n"
          ]
        }
      ]
    },
    {
      "cell_type": "code",
      "source": [
        "colours={\"pink\",\"blue\",\"black\"}\n",
        "del colours\n",
        "print(colours) "
      ],
      "metadata": {
        "colab": {
          "base_uri": "https://localhost:8080/",
          "height": 200
        },
        "id": "DOKzgmQgV7tZ",
        "outputId": "f3b9a865-a839-4a00-a7d7-352f08d0e7a8"
      },
      "execution_count": null,
      "outputs": [
        {
          "output_type": "error",
          "ename": "NameError",
          "evalue": "ignored",
          "traceback": [
            "\u001b[0;31m---------------------------------------------------------------------------\u001b[0m",
            "\u001b[0;31mNameError\u001b[0m                                 Traceback (most recent call last)",
            "\u001b[0;32m<ipython-input-31-2ab539b547e2>\u001b[0m in \u001b[0;36m<module>\u001b[0;34m()\u001b[0m\n\u001b[1;32m      1\u001b[0m \u001b[0mcolours\u001b[0m\u001b[0;34m=\u001b[0m\u001b[0;34m{\u001b[0m\u001b[0;34m\"pink\"\u001b[0m\u001b[0;34m,\u001b[0m\u001b[0;34m\"blue\"\u001b[0m\u001b[0;34m,\u001b[0m\u001b[0;34m\"black\"\u001b[0m\u001b[0;34m}\u001b[0m\u001b[0;34m\u001b[0m\u001b[0;34m\u001b[0m\u001b[0m\n\u001b[1;32m      2\u001b[0m \u001b[0;32mdel\u001b[0m \u001b[0mcolours\u001b[0m\u001b[0;34m\u001b[0m\u001b[0;34m\u001b[0m\u001b[0m\n\u001b[0;32m----> 3\u001b[0;31m \u001b[0mprint\u001b[0m\u001b[0;34m(\u001b[0m\u001b[0mcolours\u001b[0m\u001b[0;34m)\u001b[0m\u001b[0;34m\u001b[0m\u001b[0;34m\u001b[0m\u001b[0m\n\u001b[0m",
            "\u001b[0;31mNameError\u001b[0m: name 'colours' is not defined"
          ]
        }
      ]
    },
    {
      "cell_type": "markdown",
      "source": [
        "**loop sets**"
      ],
      "metadata": {
        "id": "nRVEUAYfWhaC"
      }
    },
    {
      "cell_type": "code",
      "source": [
        "colours={\"pink\",\"blue\",\"black\"}\n",
        "for x in colours:\n",
        "  print(x)\n",
        "\n",
        "\n",
        "\n",
        "\n",
        "\n"
      ],
      "metadata": {
        "colab": {
          "base_uri": "https://localhost:8080/"
        },
        "id": "NpEmOGX5WnTX",
        "outputId": "0b352de6-c09d-44d4-baba-712b25a84e22"
      },
      "execution_count": null,
      "outputs": [
        {
          "output_type": "stream",
          "name": "stdout",
          "text": [
            "pink\n",
            "black\n",
            "blue\n"
          ]
        }
      ]
    },
    {
      "cell_type": "markdown",
      "source": [
        "**join sets**"
      ],
      "metadata": {
        "id": "dDEKt3msb9Ns"
      }
    },
    {
      "cell_type": "code",
      "source": [
        "alphabets = {\"a\", \"b\" , \"c\"}\n",
        "numbers = {1, 2, 3}\n",
        "\n",
        "set3 = alphabets.union(numbers)\n",
        "print(set3)\n"
      ],
      "metadata": {
        "id": "KZYU6pPhcAfI",
        "colab": {
          "base_uri": "https://localhost:8080/",
          "height": 0
        },
        "outputId": "158cc07b-a50b-4b93-c002-3f5c9889fcc9"
      },
      "execution_count": 1,
      "outputs": [
        {
          "output_type": "stream",
          "name": "stdout",
          "text": [
            "{'c', 'a', 1, 2, 3, 'b'}\n"
          ]
        }
      ]
    },
    {
      "cell_type": "code",
      "source": [
        "alphabets = {\"a\", \"b\" , \"c\"}\n",
        "numbers = {1, 2, 3}\n",
        "\n",
        "alphabets.update(numbers)\n",
        "print(alphabets)"
      ],
      "metadata": {
        "colab": {
          "base_uri": "https://localhost:8080/",
          "height": 0
        },
        "id": "rrowgOwHEixa",
        "outputId": "e61f48f9-8f35-4fed-bced-695da6f4e0b6"
      },
      "execution_count": 2,
      "outputs": [
        {
          "output_type": "stream",
          "name": "stdout",
          "text": [
            "{'c', 'a', 1, 2, 3, 'b'}\n"
          ]
        }
      ]
    },
    {
      "cell_type": "markdown",
      "source": [
        "**keep only duplicates**"
      ],
      "metadata": {
        "id": "XVuuyk_OE96z"
      }
    },
    {
      "cell_type": "code",
      "source": [
        "fruits= {\"apple\", \"banana\", \"cherry\"}\n",
        "colours = {\"pink\", \"black\", \"white\"}\n",
        "\n",
        "fruits.intersection_update(colours)\n",
        "\n",
        "print(fruits)\n"
      ],
      "metadata": {
        "colab": {
          "base_uri": "https://localhost:8080/",
          "height": 0
        },
        "id": "WMSZe_QaFBy1",
        "outputId": "aa6118d0-1947-4215-d720-026ecbaa5b7e"
      },
      "execution_count": 3,
      "outputs": [
        {
          "output_type": "stream",
          "name": "stdout",
          "text": [
            "set()\n"
          ]
        }
      ]
    },
    {
      "cell_type": "code",
      "source": [
        "fruits= {\"apple\", \"banana\", \"cherry\"}\n",
        "colours = {\"pink\", \"black\", \"white\"}\n",
        "\n",
        "z=fruits.intersection(colours)\n",
        "print(z)\n"
      ],
      "metadata": {
        "colab": {
          "base_uri": "https://localhost:8080/",
          "height": 0
        },
        "id": "N6cQL3gBFiO8",
        "outputId": "937e4561-b86e-41bf-cf67-d45ac63b4619"
      },
      "execution_count": 4,
      "outputs": [
        {
          "output_type": "stream",
          "name": "stdout",
          "text": [
            "set()\n"
          ]
        }
      ]
    },
    {
      "cell_type": "markdown",
      "source": [
        "**keep all but not the dupilcate**"
      ],
      "metadata": {
        "id": "WQ-8sZIFF1xB"
      }
    },
    {
      "cell_type": "code",
      "source": [
        "fruits= {\"apple\", \"banana\", \"orange\"}\n",
        "colours= {\"pink\", \"yellow\", \"orange\"}\n",
        "\n",
        "fruits.symmetric_difference_update(colours)\n",
        "\n",
        "print(fruits)\n"
      ],
      "metadata": {
        "colab": {
          "base_uri": "https://localhost:8080/",
          "height": 0
        },
        "id": "HOQBO4GmF7zF",
        "outputId": "8bc37104-26ba-41ad-a56a-8c569925ad75"
      },
      "execution_count": 5,
      "outputs": [
        {
          "output_type": "stream",
          "name": "stdout",
          "text": [
            "{'apple', 'yellow', 'banana', 'pink'}\n"
          ]
        }
      ]
    },
    {
      "cell_type": "code",
      "source": [
        ""
      ],
      "metadata": {
        "id": "nGzXhoJGGVEh"
      },
      "execution_count": null,
      "outputs": []
    }
  ]
}