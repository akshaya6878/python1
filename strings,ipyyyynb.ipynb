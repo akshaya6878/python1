{
  "nbformat": 4,
  "nbformat_minor": 0,
  "metadata": {
    "colab": {
      "name": "strings,ipyyyynb",
      "provenance": [],
      "collapsed_sections": [],
      "authorship_tag": "ABX9TyMCm6VScHwFHEmhs8ROhPNi",
      "include_colab_link": true
    },
    "kernelspec": {
      "name": "python3",
      "display_name": "Python 3"
    },
    "language_info": {
      "name": "python"
    }
  },
  "cells": [
    {
      "cell_type": "markdown",
      "metadata": {
        "id": "view-in-github",
        "colab_type": "text"
      },
      "source": [
        "<a href=\"https://colab.research.google.com/github/akshaya6878/python1/blob/main/strings%2Cipyyyynb.ipynb\" target=\"_parent\"><img src=\"https://colab.research.google.com/assets/colab-badge.svg\" alt=\"Open In Colab\"/></a>"
      ]
    },
    {
      "cell_type": "markdown",
      "source": [
        "strings"
      ],
      "metadata": {
        "id": "X61vjKH366Ak"
      }
    },
    {
      "cell_type": "code",
      "source": [
        "a=\"akshaya\"\n",
        "print(a)\n",
        "print(type(a))\n",
        "print(a[5])"
      ],
      "metadata": {
        "colab": {
          "base_uri": "https://localhost:8080/"
        },
        "id": "xZ84yNVf7N8C",
        "outputId": "af55fc2e-89de-467a-ca5c-80ffc4b3a232"
      },
      "execution_count": 3,
      "outputs": [
        {
          "output_type": "stream",
          "name": "stdout",
          "text": [
            "akshaya\n",
            "<class 'str'>\n",
            "y\n"
          ]
        }
      ]
    },
    {
      "cell_type": "code",
      "source": [
        "a=\"akshaya\"\n",
        "print(len(a))"
      ],
      "metadata": {
        "colab": {
          "base_uri": "https://localhost:8080/"
        },
        "id": "3c4CEpDE7-Kz",
        "outputId": "b7682134-013f-42b2-d8d3-d1303205ffe5"
      },
      "execution_count": 5,
      "outputs": [
        {
          "output_type": "stream",
          "name": "stdout",
          "text": [
            "7\n"
          ]
        }
      ]
    },
    {
      "cell_type": "code",
      "source": [
        "a=\"akshaya is a good girl\"\n",
        "print(\"akshaya\" in a)"
      ],
      "metadata": {
        "colab": {
          "base_uri": "https://localhost:8080/"
        },
        "id": "LHKYsq6t8G-s",
        "outputId": "51010a17-de87-4713-fc5d-d0303a8f7735"
      },
      "execution_count": 9,
      "outputs": [
        {
          "output_type": "stream",
          "name": "stdout",
          "text": [
            "True\n"
          ]
        }
      ]
    },
    {
      "cell_type": "code",
      "source": [
        "a=\"akshaya is a good girl\"\n",
        "print(\"akshaya\"not in a)"
      ],
      "metadata": {
        "colab": {
          "base_uri": "https://localhost:8080/"
        },
        "id": "nef2k31m9I3K",
        "outputId": "38be949f-1cca-4eff-a03b-084e0911b58a"
      },
      "execution_count": 11,
      "outputs": [
        {
          "output_type": "stream",
          "name": "stdout",
          "text": [
            "False\n"
          ]
        }
      ]
    },
    {
      "cell_type": "code",
      "source": [
        "a=\"akshaya is a good girl\"\n",
        "print(a[2:5])"
      ],
      "metadata": {
        "colab": {
          "base_uri": "https://localhost:8080/"
        },
        "id": "nDjX_fFn9h5R",
        "outputId": "df9595d1-d42c-4b0c-97eb-c28b0ee61f2b"
      },
      "execution_count": 12,
      "outputs": [
        {
          "output_type": "stream",
          "name": "stdout",
          "text": [
            "sha\n"
          ]
        }
      ]
    }
  ]
}