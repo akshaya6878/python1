{
  "nbformat": 4,
  "nbformat_minor": 0,
  "metadata": {
    "colab": {
      "name": "strings.ipynb",
      "provenance": [],
      "authorship_tag": "ABX9TyMkPR5N9nxhoQHptd3TI63b",
      "include_colab_link": true
    },
    "kernelspec": {
      "name": "python3",
      "display_name": "Python 3"
    },
    "language_info": {
      "name": "python"
    }
  },
  "cells": [
    {
      "cell_type": "markdown",
      "metadata": {
        "id": "view-in-github",
        "colab_type": "text"
      },
      "source": [
        "<a href=\"https://colab.research.google.com/github/akshaya6878/python1/blob/main/strings.ipynb\" target=\"_parent\"><img src=\"https://colab.research.google.com/assets/colab-badge.svg\" alt=\"Open In Colab\"/></a>"
      ]
    },
    {
      "cell_type": "markdown",
      "source": [
        "STRINGS"
      ],
      "metadata": {
        "id": "4-bIcIJKXtC9"
      }
    },
    {
      "cell_type": "markdown",
      "source": [
        "lower case"
      ],
      "metadata": {
        "id": "zyanyQMdX2Js"
      }
    },
    {
      "cell_type": "code",
      "source": [
        "a=\"AKSHAYA\"\n",
        "print(a.lower())"
      ],
      "metadata": {
        "colab": {
          "base_uri": "https://localhost:8080/"
        },
        "id": "qxKrGwypX8td",
        "outputId": "a114d8cb-797e-4610-fe3d-c608f5a32a70"
      },
      "execution_count": 13,
      "outputs": [
        {
          "output_type": "stream",
          "name": "stdout",
          "text": [
            "akshaya\n"
          ]
        }
      ]
    },
    {
      "cell_type": "markdown",
      "source": [
        "upper case"
      ],
      "metadata": {
        "id": "njbB2HeoYPg9"
      }
    },
    {
      "cell_type": "code",
      "source": [
        "a=\"akshaya\"\n",
        "print(a.upper())"
      ],
      "metadata": {
        "colab": {
          "base_uri": "https://localhost:8080/"
        },
        "id": "hwZ95YtMYTv8",
        "outputId": "463fd13f-77d5-4052-954f-73d369c6d22f"
      },
      "execution_count": 14,
      "outputs": [
        {
          "output_type": "stream",
          "name": "stdout",
          "text": [
            "AKSHAYA\n"
          ]
        }
      ]
    },
    {
      "cell_type": "markdown",
      "source": [
        "remove spaces"
      ],
      "metadata": {
        "id": "svH2jcYOYc9l"
      }
    },
    {
      "cell_type": "code",
      "source": [
        "a=\"    hie hello how are you     \"\n",
        "print(a.strip())"
      ],
      "metadata": {
        "colab": {
          "base_uri": "https://localhost:8080/"
        },
        "id": "AAcuI-opYjX3",
        "outputId": "909d376b-4d31-423d-8a11-387edf470c81"
      },
      "execution_count": 8,
      "outputs": [
        {
          "output_type": "stream",
          "name": "stdout",
          "text": [
            "hie hello how are you\n"
          ]
        }
      ]
    },
    {
      "cell_type": "markdown",
      "source": [
        "replace string\n"
      ],
      "metadata": {
        "id": "IAUGpeJmZOnu"
      }
    },
    {
      "cell_type": "code",
      "source": [
        "a=\" have a nyc day\"\n",
        "print(a.replace(\"nyc\",\"good\"))"
      ],
      "metadata": {
        "colab": {
          "base_uri": "https://localhost:8080/"
        },
        "id": "PLozEYVmZSA-",
        "outputId": "c268b561-7fe2-4b18-f6a5-9ea8de21dd44"
      },
      "execution_count": 9,
      "outputs": [
        {
          "output_type": "stream",
          "name": "stdout",
          "text": [
            " have a good day\n"
          ]
        }
      ]
    },
    {
      "cell_type": "markdown",
      "source": [
        "split string"
      ],
      "metadata": {
        "id": "yordy0bIZ3JF"
      }
    },
    {
      "cell_type": "code",
      "source": [
        "a=\"simple samosa\"\n",
        "print(a.split())\n",
        "a=\"simple ,samosa\"\n",
        "print(a.split(\",\"))"
      ],
      "metadata": {
        "colab": {
          "base_uri": "https://localhost:8080/"
        },
        "id": "lezVo7J8Z6xl",
        "outputId": "94089b72-702a-4c8d-b91a-af8d4654743d"
      },
      "execution_count": 16,
      "outputs": [
        {
          "output_type": "stream",
          "name": "stdout",
          "text": [
            "['simple', 'samosa']\n",
            "['simple ', 'samosa']\n"
          ]
        }
      ]
    },
    {
      "cell_type": "markdown",
      "source": [
        "String Concatenation"
      ],
      "metadata": {
        "id": "i9pQ0rBPaWfF"
      }
    },
    {
      "cell_type": "code",
      "source": [
        "a=\"akshaya\"\n",
        "b=\"monangi\"\n",
        "c=a+b\n",
        "print(c)\n",
        "a=\"motu\"\n",
        "b=\"patlu\"\n",
        "c=a+\"\"+b \n",
        "print(c)"
      ],
      "metadata": {
        "colab": {
          "base_uri": "https://localhost:8080/"
        },
        "id": "WlH27Dv2a0xF",
        "outputId": "bdc1a0d3-5ebf-4f21-d7c1-a651f6839a6e"
      },
      "execution_count": 19,
      "outputs": [
        {
          "output_type": "stream",
          "name": "stdout",
          "text": [
            "akshayamonangi\n",
            "motupatlu\n"
          ]
        }
      ]
    },
    {
      "cell_type": "markdown",
      "source": [
        "format string\n",
        "\n"
      ],
      "metadata": {
        "id": "rA5r7bYsir7c"
      }
    },
    {
      "cell_type": "code",
      "source": [
        "quantity=3\n",
        "item= 143\n",
        "price=50\n",
        "myorder=\"i want {}pieces of item {} of price {}\"\n",
        "print(myorder.format(quantity,item,price))\n"
      ],
      "metadata": {
        "colab": {
          "base_uri": "https://localhost:8080/"
        },
        "id": "bFEiTJnvi2B7",
        "outputId": "83410110-50f0-4122-9534-e36eb603d5c1"
      },
      "execution_count": 24,
      "outputs": [
        {
          "output_type": "stream",
          "name": "stdout",
          "text": [
            "i want 3pieces of item 143 of price 50\n"
          ]
        }
      ]
    },
    {
      "cell_type": "code",
      "source": [
        "math=int(input(\"enter marks\"))\n",
        "phy=int(input(\"enter marks\"))\n",
        "chem=int(input(\"enter marks\"))\n",
        "python=int(input(\"enter marks\"))\n",
        "mymarks=\"my math marks are {} ,phy are  {} , chem are {} , python are {}\"\n",
        "print(mymarks.format(math,phy,chem,python))"
      ],
      "metadata": {
        "colab": {
          "base_uri": "https://localhost:8080/"
        },
        "id": "B0B8eq_Gj3Ye",
        "outputId": "05608f11-013c-4641-87e4-843f969a9406"
      },
      "execution_count": 27,
      "outputs": [
        {
          "output_type": "stream",
          "name": "stdout",
          "text": [
            "enter marks92\n",
            "enter marks90\n",
            "enter marks8\n",
            "enter marks99\n",
            "my math marks are 92 ,phy are  90 , chem are 8 , python are 99\n"
          ]
        }
      ]
    },
    {
      "cell_type": "markdown",
      "source": [
        "characterstics"
      ],
      "metadata": {
        "id": "8P3-TkmOmz4N"
      }
    },
    {
      "cell_type": "code",
      "source": [
        "a=\"it\\'s allright\"\n",
        "print(a)\n",
        "a=\"happy \\\\ birthday\"\n",
        "print(a)\n",
        "a=\"hello \\n how are you\"\n",
        "print(a)\n",
        "a=\"hie\\rhow are you\"\n",
        "print(a)\n",
        "a=\"turning\\tred\"\n",
        "print(a)\n",
        "a=\"turning \\b red\"\n",
        "print(a)\n",
        "a=\"turning\\fred\"\n",
        "print(a)\n"
      ],
      "metadata": {
        "colab": {
          "base_uri": "https://localhost:8080/"
        },
        "id": "7xE4xFzim3F7",
        "outputId": "36279b70-e927-4d28-8c06-77de1fe0d2db"
      },
      "execution_count": 48,
      "outputs": [
        {
          "output_type": "stream",
          "name": "stdout",
          "text": [
            "it's allright\n",
            "happy \\ birthday\n",
            "hello \n",
            " how are you\n",
            "hie\rhow are you\n",
            "turning\tred\n",
            "turning \b red\n",
            "turning\fred\n"
          ]
        }
      ]
    },
    {
      "cell_type": "markdown",
      "source": [
        "string methods"
      ],
      "metadata": {
        "id": "wpsh2iZ2pyXG"
      }
    },
    {
      "cell_type": "code",
      "source": [
        "a=\"akshaya\"\n",
        "b=a.capitalize()\n",
        "print(b)"
      ],
      "metadata": {
        "colab": {
          "base_uri": "https://localhost:8080/"
        },
        "id": "DP4Xhg2mp3K8",
        "outputId": "58605650-1165-4edd-94b0-30618c6ef9a0"
      },
      "execution_count": 54,
      "outputs": [
        {
          "output_type": "stream",
          "name": "stdout",
          "text": [
            "Akshaya\n"
          ]
        }
      ]
    },
    {
      "cell_type": "code",
      "source": [
        "a=\"Akshaya\"\n",
        "b=a.casefold()\n",
        "print(b)"
      ],
      "metadata": {
        "colab": {
          "base_uri": "https://localhost:8080/"
        },
        "id": "veQdlm8Pqx92",
        "outputId": "471f0dcf-03bc-4e51-ac2c-182d56ee959d"
      },
      "execution_count": 55,
      "outputs": [
        {
          "output_type": "stream",
          "name": "stdout",
          "text": [
            "akshaya\n"
          ]
        }
      ]
    },
    {
      "cell_type": "code",
      "source": [
        "a=\"akshaya\"\n",
        "b=a.center(20)\n",
        "print(b)"
      ],
      "metadata": {
        "colab": {
          "base_uri": "https://localhost:8080/"
        },
        "id": "ElE1xRKIq_W-",
        "outputId": "ceeb7a23-bcd3-4ab0-dd9c-4d2b393d7f66"
      },
      "execution_count": 56,
      "outputs": [
        {
          "output_type": "stream",
          "name": "stdout",
          "text": [
            "      akshaya       \n"
          ]
        }
      ]
    },
    {
      "cell_type": "code",
      "source": [
        "a=\"hello world welcome to my world\"\n",
        "b=a.count(\"\")\n",
        "print(b)"
      ],
      "metadata": {
        "colab": {
          "base_uri": "https://localhost:8080/"
        },
        "id": "DAu65RnhrIev",
        "outputId": "c6b506b1-8d1b-461e-df19-371dff113c47"
      },
      "execution_count": 62,
      "outputs": [
        {
          "output_type": "stream",
          "name": "stdout",
          "text": [
            "32\n"
          ]
        }
      ]
    }
  ]
}